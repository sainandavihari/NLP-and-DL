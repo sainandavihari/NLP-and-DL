{
 "cells": [
  {
   "cell_type": "code",
   "execution_count": 1,
   "id": "f7b93dd5-e9d5-4b2f-bc9e-7f4329a44ed4",
   "metadata": {},
   "outputs": [],
   "source": [
    "import os"
   ]
  },
  {
   "cell_type": "code",
   "execution_count": 1,
   "id": "d68357f8-d8ab-48fe-a927-ac996450d154",
   "metadata": {},
   "outputs": [],
   "source": [
    "import nltk"
   ]
  },
  {
   "cell_type": "code",
   "execution_count": 5,
   "id": "bcbd1a6d-8513-4dcd-90f5-0823c08b1c9c",
   "metadata": {},
   "outputs": [],
   "source": [
    "AI='Artificial intelligence (AI) refers to the capability of computational systems to perform tasks typically associated with human intelligence, such as learning, reasoning, problem-solving, perception, and decision-making. It is a field of research in computer science that develops and studies methods and software that enable machines to perceive their environment and use learning and intelligence to take actions that maximize their chances of achieving defined goals.[1] Such machines may be called AIs.'"
   ]
  },
  {
   "cell_type": "code",
   "execution_count": 55,
   "id": "50a82df2-368f-4c22-a2c3-bf75f8fabb2b",
   "metadata": {},
   "outputs": [],
   "source": [
    "from nltk.tokenize import word_tokenize"
   ]
  },
  {
   "cell_type": "code",
   "execution_count": 11,
   "id": "0c91ad63-bff5-42ef-a335-c5661546a7c2",
   "metadata": {},
   "outputs": [
    {
     "data": {
      "text/plain": [
       "['Artificial',\n",
       " 'intelligence',\n",
       " '(',\n",
       " 'AI',\n",
       " ')',\n",
       " 'refers',\n",
       " 'to',\n",
       " 'the',\n",
       " 'capability',\n",
       " 'of',\n",
       " 'computational',\n",
       " 'systems',\n",
       " 'to',\n",
       " 'perform',\n",
       " 'tasks',\n",
       " 'typically',\n",
       " 'associated',\n",
       " 'with',\n",
       " 'human',\n",
       " 'intelligence',\n",
       " ',',\n",
       " 'such',\n",
       " 'as',\n",
       " 'learning',\n",
       " ',',\n",
       " 'reasoning',\n",
       " ',',\n",
       " 'problem-solving',\n",
       " ',',\n",
       " 'perception',\n",
       " ',',\n",
       " 'and',\n",
       " 'decision-making',\n",
       " '.',\n",
       " 'It',\n",
       " 'is',\n",
       " 'a',\n",
       " 'field',\n",
       " 'of',\n",
       " 'research',\n",
       " 'in',\n",
       " 'computer',\n",
       " 'science',\n",
       " 'that',\n",
       " 'develops',\n",
       " 'and',\n",
       " 'studies',\n",
       " 'methods',\n",
       " 'and',\n",
       " 'software',\n",
       " 'that',\n",
       " 'enable',\n",
       " 'machines',\n",
       " 'to',\n",
       " 'perceive',\n",
       " 'their',\n",
       " 'environment',\n",
       " 'and',\n",
       " 'use',\n",
       " 'learning',\n",
       " 'and',\n",
       " 'intelligence',\n",
       " 'to',\n",
       " 'take',\n",
       " 'actions',\n",
       " 'that',\n",
       " 'maximize',\n",
       " 'their',\n",
       " 'chances',\n",
       " 'of',\n",
       " 'achieving',\n",
       " 'defined',\n",
       " 'goals',\n",
       " '.',\n",
       " '[',\n",
       " '1',\n",
       " ']',\n",
       " 'Such',\n",
       " 'machines',\n",
       " 'may',\n",
       " 'be',\n",
       " 'called',\n",
       " 'AIs',\n",
       " '.']"
      ]
     },
     "execution_count": 11,
     "metadata": {},
     "output_type": "execute_result"
    }
   ],
   "source": [
    "Word_Tock1=word_tokenize(AI)\n",
    "Word_Tock1"
   ]
  },
  {
   "cell_type": "code",
   "execution_count": 13,
   "id": "aa58d95f-0da2-4fbd-bb73-7f2d33f7c463",
   "metadata": {},
   "outputs": [
    {
     "data": {
      "text/plain": [
       "84"
      ]
     },
     "execution_count": 13,
     "metadata": {},
     "output_type": "execute_result"
    }
   ],
   "source": [
    "len(Word_Tock1)"
   ]
  },
  {
   "cell_type": "code",
   "execution_count": 15,
   "id": "3d932d20-14f0-4b08-a58a-7b9e7cf1980d",
   "metadata": {},
   "outputs": [],
   "source": [
    "from nltk.tokenize import sent_tokenize # sentence as a tokens"
   ]
  },
  {
   "cell_type": "code",
   "execution_count": 17,
   "id": "9696bf54-0abf-4d7d-9166-14983346ea7e",
   "metadata": {},
   "outputs": [],
   "source": [
    "sent_tock1=sent_tokenize(AI)"
   ]
  },
  {
   "cell_type": "code",
   "execution_count": 19,
   "id": "e7415865-0453-482e-b825-22acf175d4c8",
   "metadata": {},
   "outputs": [
    {
     "data": {
      "text/plain": [
       "['Artificial intelligence (AI) refers to the capability of computational systems to perform tasks typically associated with human intelligence, such as learning, reasoning, problem-solving, perception, and decision-making.',\n",
       " 'It is a field of research in computer science that develops and studies methods and software that enable machines to perceive their environment and use learning and intelligence to take actions that maximize their chances of achieving defined goals.',\n",
       " '[1] Such machines may be called AIs.']"
      ]
     },
     "execution_count": 19,
     "metadata": {},
     "output_type": "execute_result"
    }
   ],
   "source": [
    "sent_tock1"
   ]
  },
  {
   "cell_type": "code",
   "execution_count": 21,
   "id": "99ce68b1-3132-4465-8053-f5371dda4b18",
   "metadata": {},
   "outputs": [
    {
     "data": {
      "text/plain": [
       "3"
      ]
     },
     "execution_count": 21,
     "metadata": {},
     "output_type": "execute_result"
    }
   ],
   "source": [
    "len(sent_tock1)"
   ]
  },
  {
   "cell_type": "code",
   "execution_count": 31,
   "id": "bbfee4f0-1201-46ec-a020-303d7a50bcbf",
   "metadata": {},
   "outputs": [],
   "source": [
    "from nltk.tokenize import blankline_tokenize # paragraph as tokens ,like number of paragraphs we have , those many tockens we can get"
   ]
  },
  {
   "cell_type": "code",
   "execution_count": 25,
   "id": "bf5dca41-7853-4e68-9fc8-c2cac9d2ea20",
   "metadata": {},
   "outputs": [],
   "source": [
    "para_token1=blankline_tokenize(AI)"
   ]
  },
  {
   "cell_type": "code",
   "execution_count": 27,
   "id": "1171d2dc-338a-4106-b2fd-501c2f64e385",
   "metadata": {},
   "outputs": [
    {
     "data": {
      "text/plain": [
       "['Artificial intelligence (AI) refers to the capability of computational systems to perform tasks typically associated with human intelligence, such as learning, reasoning, problem-solving, perception, and decision-making. It is a field of research in computer science that develops and studies methods and software that enable machines to perceive their environment and use learning and intelligence to take actions that maximize their chances of achieving defined goals.[1] Such machines may be called AIs.']"
      ]
     },
     "execution_count": 27,
     "metadata": {},
     "output_type": "execute_result"
    }
   ],
   "source": [
    "para_token1"
   ]
  },
  {
   "cell_type": "code",
   "execution_count": 29,
   "id": "0418ae63-f146-48a3-aa9e-92da1ff294a4",
   "metadata": {},
   "outputs": [
    {
     "data": {
      "text/plain": [
       "1"
      ]
     },
     "execution_count": 29,
     "metadata": {},
     "output_type": "execute_result"
    }
   ],
   "source": [
    "len(para_token1)"
   ]
  },
  {
   "cell_type": "code",
   "execution_count": 45,
   "id": "ad199a7e-8cdd-48e5-bef8-a2069358d0f7",
   "metadata": {},
   "outputs": [],
   "source": [
    "from nltk.tokenize import WhitespaceTokenizer\n",
    "Tokenizer=WhitespaceTokenizer()"
   ]
  },
  {
   "cell_type": "code",
   "execution_count": 47,
   "id": "bb3b1e5f-4aea-40c1-a51d-5a93c28e768d",
   "metadata": {},
   "outputs": [],
   "source": [
    "whitespace_tocken1=Tokenizer.tokenize(AI)"
   ]
  },
  {
   "cell_type": "code",
   "execution_count": 51,
   "id": "9cce2e17-9ca1-4c38-acab-7ce8c88077d2",
   "metadata": {},
   "outputs": [
    {
     "data": {
      "text/plain": [
       "['Artificial',\n",
       " 'intelligence',\n",
       " '(AI)',\n",
       " 'refers',\n",
       " 'to',\n",
       " 'the',\n",
       " 'capability',\n",
       " 'of',\n",
       " 'computational',\n",
       " 'systems',\n",
       " 'to',\n",
       " 'perform',\n",
       " 'tasks',\n",
       " 'typically',\n",
       " 'associated',\n",
       " 'with',\n",
       " 'human',\n",
       " 'intelligence,',\n",
       " 'such',\n",
       " 'as',\n",
       " 'learning,',\n",
       " 'reasoning,',\n",
       " 'problem-solving,',\n",
       " 'perception,',\n",
       " 'and',\n",
       " 'decision-making.',\n",
       " 'It',\n",
       " 'is',\n",
       " 'a',\n",
       " 'field',\n",
       " 'of',\n",
       " 'research',\n",
       " 'in',\n",
       " 'computer',\n",
       " 'science',\n",
       " 'that',\n",
       " 'develops',\n",
       " 'and',\n",
       " 'studies',\n",
       " 'methods',\n",
       " 'and',\n",
       " 'software',\n",
       " 'that',\n",
       " 'enable',\n",
       " 'machines',\n",
       " 'to',\n",
       " 'perceive',\n",
       " 'their',\n",
       " 'environment',\n",
       " 'and',\n",
       " 'use',\n",
       " 'learning',\n",
       " 'and',\n",
       " 'intelligence',\n",
       " 'to',\n",
       " 'take',\n",
       " 'actions',\n",
       " 'that',\n",
       " 'maximize',\n",
       " 'their',\n",
       " 'chances',\n",
       " 'of',\n",
       " 'achieving',\n",
       " 'defined',\n",
       " 'goals.[1]',\n",
       " 'Such',\n",
       " 'machines',\n",
       " 'may',\n",
       " 'be',\n",
       " 'called',\n",
       " 'AIs.']"
      ]
     },
     "execution_count": 51,
     "metadata": {},
     "output_type": "execute_result"
    }
   ],
   "source": [
    "whitespace_tocken1 # here we don't find any , and . in tockens / white space tockenize gives words without , and ."
   ]
  },
  {
   "cell_type": "code",
   "execution_count": 55,
   "id": "5d2ba6ac-832e-4622-8cce-0b96f9ceca29",
   "metadata": {},
   "outputs": [
    {
     "name": "stdout",
     "output_type": "stream",
     "text": [
      "71\n"
     ]
    }
   ],
   "source": [
    "print(len(whitespace_tocken1))"
   ]
  },
  {
   "cell_type": "code",
   "execution_count": 57,
   "id": "959e7f75-22b0-4643-8730-58304c944ca6",
   "metadata": {},
   "outputs": [],
   "source": [
    "str1=\"hi how are you , i have $22.12 dollors\"\n"
   ]
  },
  {
   "cell_type": "code",
   "execution_count": 65,
   "id": "9de7ca4f-0b53-48d4-acab-e1bf7eeef83d",
   "metadata": {},
   "outputs": [],
   "source": [
    "from nltk.tokenize import wordpunct_tokenize # here each and everything including punctuation also converted as tockens"
   ]
  },
  {
   "cell_type": "code",
   "execution_count": 61,
   "id": "75433c17-bd4b-403c-a204-d705f61446b9",
   "metadata": {},
   "outputs": [],
   "source": [
    "punct_tock1=wordpunct_tokenize(str1)"
   ]
  },
  {
   "cell_type": "code",
   "execution_count": 63,
   "id": "74c45f33-147f-40eb-9b0f-27c2bd45a50e",
   "metadata": {},
   "outputs": [
    {
     "data": {
      "text/plain": [
       "['hi', 'how', 'are', 'you', ',', 'i', 'have', '$', '22', '.', '12', 'dollors']"
      ]
     },
     "execution_count": 63,
     "metadata": {},
     "output_type": "execute_result"
    }
   ],
   "source": [
    "punct_tock1"
   ]
  },
  {
   "cell_type": "code",
   "execution_count": 67,
   "id": "3a84194b-cde2-43e4-9a32-3a6c8865c0f5",
   "metadata": {},
   "outputs": [],
   "source": [
    "# Types of tokenization"
   ]
  },
  {
   "cell_type": "code",
   "execution_count": 69,
   "id": "0addd810-0316-4790-8906-9e5baa5a8d8f",
   "metadata": {},
   "outputs": [],
   "source": [
    "import nltk"
   ]
  },
  {
   "cell_type": "code",
   "execution_count": 71,
   "id": "d02b2efa-e04e-4b6f-9afb-daf9b810456b",
   "metadata": {},
   "outputs": [],
   "source": [
    "from nltk.util import bigrams,trigrams,ngrams"
   ]
  },
  {
   "cell_type": "code",
   "execution_count": 73,
   "id": "ccb1aa35-d426-4b8d-8516-aa6a67a905ec",
   "metadata": {},
   "outputs": [
    {
     "data": {
      "text/plain": [
       "'Artificial intelligence (AI) refers to the capability of computational systems to perform tasks typically associated with human intelligence, such as learning, reasoning, problem-solving, perception, and decision-making. It is a field of research in computer science that develops and studies methods and software that enable machines to perceive their environment and use learning and intelligence to take actions that maximize their chances of achieving defined goals.[1] Such machines may be called AIs.'"
      ]
     },
     "execution_count": 73,
     "metadata": {},
     "output_type": "execute_result"
    }
   ],
   "source": [
    "AI"
   ]
  },
  {
   "cell_type": "code",
   "execution_count": 75,
   "id": "10e49e63-eb27-4c9a-8772-d0dff88afd4e",
   "metadata": {},
   "outputs": [
    {
     "data": {
      "text/plain": [
       "['Artificial',\n",
       " 'intelligence',\n",
       " '(',\n",
       " 'AI',\n",
       " ')',\n",
       " 'refers',\n",
       " 'to',\n",
       " 'the',\n",
       " 'capability',\n",
       " 'of',\n",
       " 'computational',\n",
       " 'systems',\n",
       " 'to',\n",
       " 'perform',\n",
       " 'tasks',\n",
       " 'typically',\n",
       " 'associated',\n",
       " 'with',\n",
       " 'human',\n",
       " 'intelligence',\n",
       " ',',\n",
       " 'such',\n",
       " 'as',\n",
       " 'learning',\n",
       " ',',\n",
       " 'reasoning',\n",
       " ',',\n",
       " 'problem-solving',\n",
       " ',',\n",
       " 'perception',\n",
       " ',',\n",
       " 'and',\n",
       " 'decision-making',\n",
       " '.',\n",
       " 'It',\n",
       " 'is',\n",
       " 'a',\n",
       " 'field',\n",
       " 'of',\n",
       " 'research',\n",
       " 'in',\n",
       " 'computer',\n",
       " 'science',\n",
       " 'that',\n",
       " 'develops',\n",
       " 'and',\n",
       " 'studies',\n",
       " 'methods',\n",
       " 'and',\n",
       " 'software',\n",
       " 'that',\n",
       " 'enable',\n",
       " 'machines',\n",
       " 'to',\n",
       " 'perceive',\n",
       " 'their',\n",
       " 'environment',\n",
       " 'and',\n",
       " 'use',\n",
       " 'learning',\n",
       " 'and',\n",
       " 'intelligence',\n",
       " 'to',\n",
       " 'take',\n",
       " 'actions',\n",
       " 'that',\n",
       " 'maximize',\n",
       " 'their',\n",
       " 'chances',\n",
       " 'of',\n",
       " 'achieving',\n",
       " 'defined',\n",
       " 'goals',\n",
       " '.',\n",
       " '[',\n",
       " '1',\n",
       " ']',\n",
       " 'Such',\n",
       " 'machines',\n",
       " 'may',\n",
       " 'be',\n",
       " 'called',\n",
       " 'AIs',\n",
       " '.']"
      ]
     },
     "execution_count": 75,
     "metadata": {},
     "output_type": "execute_result"
    }
   ],
   "source": [
    "Word_Tock1"
   ]
  },
  {
   "cell_type": "code",
   "execution_count": 79,
   "id": "34f0b1cb-0d81-43b7-b403-702bfcb06433",
   "metadata": {},
   "outputs": [],
   "source": [
    "token_bigrams=list(bigrams(Word_Tock1))"
   ]
  },
  {
   "cell_type": "code",
   "execution_count": 83,
   "id": "8a8a3510-b56a-499f-8e92-ad74d2647c8f",
   "metadata": {},
   "outputs": [
    {
     "data": {
      "text/plain": [
       "[('Artificial', 'intelligence'),\n",
       " ('intelligence', '('),\n",
       " ('(', 'AI'),\n",
       " ('AI', ')'),\n",
       " (')', 'refers'),\n",
       " ('refers', 'to'),\n",
       " ('to', 'the'),\n",
       " ('the', 'capability'),\n",
       " ('capability', 'of'),\n",
       " ('of', 'computational'),\n",
       " ('computational', 'systems'),\n",
       " ('systems', 'to'),\n",
       " ('to', 'perform'),\n",
       " ('perform', 'tasks'),\n",
       " ('tasks', 'typically'),\n",
       " ('typically', 'associated'),\n",
       " ('associated', 'with'),\n",
       " ('with', 'human'),\n",
       " ('human', 'intelligence'),\n",
       " ('intelligence', ','),\n",
       " (',', 'such'),\n",
       " ('such', 'as'),\n",
       " ('as', 'learning'),\n",
       " ('learning', ','),\n",
       " (',', 'reasoning'),\n",
       " ('reasoning', ','),\n",
       " (',', 'problem-solving'),\n",
       " ('problem-solving', ','),\n",
       " (',', 'perception'),\n",
       " ('perception', ','),\n",
       " (',', 'and'),\n",
       " ('and', 'decision-making'),\n",
       " ('decision-making', '.'),\n",
       " ('.', 'It'),\n",
       " ('It', 'is'),\n",
       " ('is', 'a'),\n",
       " ('a', 'field'),\n",
       " ('field', 'of'),\n",
       " ('of', 'research'),\n",
       " ('research', 'in'),\n",
       " ('in', 'computer'),\n",
       " ('computer', 'science'),\n",
       " ('science', 'that'),\n",
       " ('that', 'develops'),\n",
       " ('develops', 'and'),\n",
       " ('and', 'studies'),\n",
       " ('studies', 'methods'),\n",
       " ('methods', 'and'),\n",
       " ('and', 'software'),\n",
       " ('software', 'that'),\n",
       " ('that', 'enable'),\n",
       " ('enable', 'machines'),\n",
       " ('machines', 'to'),\n",
       " ('to', 'perceive'),\n",
       " ('perceive', 'their'),\n",
       " ('their', 'environment'),\n",
       " ('environment', 'and'),\n",
       " ('and', 'use'),\n",
       " ('use', 'learning'),\n",
       " ('learning', 'and'),\n",
       " ('and', 'intelligence'),\n",
       " ('intelligence', 'to'),\n",
       " ('to', 'take'),\n",
       " ('take', 'actions'),\n",
       " ('actions', 'that'),\n",
       " ('that', 'maximize'),\n",
       " ('maximize', 'their'),\n",
       " ('their', 'chances'),\n",
       " ('chances', 'of'),\n",
       " ('of', 'achieving'),\n",
       " ('achieving', 'defined'),\n",
       " ('defined', 'goals'),\n",
       " ('goals', '.'),\n",
       " ('.', '['),\n",
       " ('[', '1'),\n",
       " ('1', ']'),\n",
       " (']', 'Such'),\n",
       " ('Such', 'machines'),\n",
       " ('machines', 'may'),\n",
       " ('may', 'be'),\n",
       " ('be', 'called'),\n",
       " ('called', 'AIs'),\n",
       " ('AIs', '.')]"
      ]
     },
     "execution_count": 83,
     "metadata": {},
     "output_type": "execute_result"
    }
   ],
   "source": [
    "token_bigrams"
   ]
  },
  {
   "cell_type": "code",
   "execution_count": 87,
   "id": "83f69d8e-3b02-46c3-b095-6f8dabf6a453",
   "metadata": {},
   "outputs": [
    {
     "data": {
      "text/plain": [
       "[('Artificial', 'intelligence', '('),\n",
       " ('intelligence', '(', 'AI'),\n",
       " ('(', 'AI', ')'),\n",
       " ('AI', ')', 'refers'),\n",
       " (')', 'refers', 'to'),\n",
       " ('refers', 'to', 'the'),\n",
       " ('to', 'the', 'capability'),\n",
       " ('the', 'capability', 'of'),\n",
       " ('capability', 'of', 'computational'),\n",
       " ('of', 'computational', 'systems'),\n",
       " ('computational', 'systems', 'to'),\n",
       " ('systems', 'to', 'perform'),\n",
       " ('to', 'perform', 'tasks'),\n",
       " ('perform', 'tasks', 'typically'),\n",
       " ('tasks', 'typically', 'associated'),\n",
       " ('typically', 'associated', 'with'),\n",
       " ('associated', 'with', 'human'),\n",
       " ('with', 'human', 'intelligence'),\n",
       " ('human', 'intelligence', ','),\n",
       " ('intelligence', ',', 'such'),\n",
       " (',', 'such', 'as'),\n",
       " ('such', 'as', 'learning'),\n",
       " ('as', 'learning', ','),\n",
       " ('learning', ',', 'reasoning'),\n",
       " (',', 'reasoning', ','),\n",
       " ('reasoning', ',', 'problem-solving'),\n",
       " (',', 'problem-solving', ','),\n",
       " ('problem-solving', ',', 'perception'),\n",
       " (',', 'perception', ','),\n",
       " ('perception', ',', 'and'),\n",
       " (',', 'and', 'decision-making'),\n",
       " ('and', 'decision-making', '.'),\n",
       " ('decision-making', '.', 'It'),\n",
       " ('.', 'It', 'is'),\n",
       " ('It', 'is', 'a'),\n",
       " ('is', 'a', 'field'),\n",
       " ('a', 'field', 'of'),\n",
       " ('field', 'of', 'research'),\n",
       " ('of', 'research', 'in'),\n",
       " ('research', 'in', 'computer'),\n",
       " ('in', 'computer', 'science'),\n",
       " ('computer', 'science', 'that'),\n",
       " ('science', 'that', 'develops'),\n",
       " ('that', 'develops', 'and'),\n",
       " ('develops', 'and', 'studies'),\n",
       " ('and', 'studies', 'methods'),\n",
       " ('studies', 'methods', 'and'),\n",
       " ('methods', 'and', 'software'),\n",
       " ('and', 'software', 'that'),\n",
       " ('software', 'that', 'enable'),\n",
       " ('that', 'enable', 'machines'),\n",
       " ('enable', 'machines', 'to'),\n",
       " ('machines', 'to', 'perceive'),\n",
       " ('to', 'perceive', 'their'),\n",
       " ('perceive', 'their', 'environment'),\n",
       " ('their', 'environment', 'and'),\n",
       " ('environment', 'and', 'use'),\n",
       " ('and', 'use', 'learning'),\n",
       " ('use', 'learning', 'and'),\n",
       " ('learning', 'and', 'intelligence'),\n",
       " ('and', 'intelligence', 'to'),\n",
       " ('intelligence', 'to', 'take'),\n",
       " ('to', 'take', 'actions'),\n",
       " ('take', 'actions', 'that'),\n",
       " ('actions', 'that', 'maximize'),\n",
       " ('that', 'maximize', 'their'),\n",
       " ('maximize', 'their', 'chances'),\n",
       " ('their', 'chances', 'of'),\n",
       " ('chances', 'of', 'achieving'),\n",
       " ('of', 'achieving', 'defined'),\n",
       " ('achieving', 'defined', 'goals'),\n",
       " ('defined', 'goals', '.'),\n",
       " ('goals', '.', '['),\n",
       " ('.', '[', '1'),\n",
       " ('[', '1', ']'),\n",
       " ('1', ']', 'Such'),\n",
       " (']', 'Such', 'machines'),\n",
       " ('Such', 'machines', 'may'),\n",
       " ('machines', 'may', 'be'),\n",
       " ('may', 'be', 'called'),\n",
       " ('be', 'called', 'AIs'),\n",
       " ('called', 'AIs', '.')]"
      ]
     },
     "execution_count": 87,
     "metadata": {},
     "output_type": "execute_result"
    }
   ],
   "source": [
    "token_trigram=list(trigrams(Word_Tock1))\n",
    "token_trigram"
   ]
  },
  {
   "cell_type": "code",
   "execution_count": 89,
   "id": "c879c386-d0cd-4b53-84fc-378e67ad7d55",
   "metadata": {},
   "outputs": [],
   "source": [
    "tocken_ngram=list(ngrams(Word_Tock1,10))"
   ]
  },
  {
   "cell_type": "code",
   "execution_count": 91,
   "id": "7afa20aa-f570-45b5-9328-a44d9b1eefd1",
   "metadata": {},
   "outputs": [
    {
     "data": {
      "text/plain": [
       "[('Artificial',\n",
       "  'intelligence',\n",
       "  '(',\n",
       "  'AI',\n",
       "  ')',\n",
       "  'refers',\n",
       "  'to',\n",
       "  'the',\n",
       "  'capability',\n",
       "  'of'),\n",
       " ('intelligence',\n",
       "  '(',\n",
       "  'AI',\n",
       "  ')',\n",
       "  'refers',\n",
       "  'to',\n",
       "  'the',\n",
       "  'capability',\n",
       "  'of',\n",
       "  'computational'),\n",
       " ('(',\n",
       "  'AI',\n",
       "  ')',\n",
       "  'refers',\n",
       "  'to',\n",
       "  'the',\n",
       "  'capability',\n",
       "  'of',\n",
       "  'computational',\n",
       "  'systems'),\n",
       " ('AI',\n",
       "  ')',\n",
       "  'refers',\n",
       "  'to',\n",
       "  'the',\n",
       "  'capability',\n",
       "  'of',\n",
       "  'computational',\n",
       "  'systems',\n",
       "  'to'),\n",
       " (')',\n",
       "  'refers',\n",
       "  'to',\n",
       "  'the',\n",
       "  'capability',\n",
       "  'of',\n",
       "  'computational',\n",
       "  'systems',\n",
       "  'to',\n",
       "  'perform'),\n",
       " ('refers',\n",
       "  'to',\n",
       "  'the',\n",
       "  'capability',\n",
       "  'of',\n",
       "  'computational',\n",
       "  'systems',\n",
       "  'to',\n",
       "  'perform',\n",
       "  'tasks'),\n",
       " ('to',\n",
       "  'the',\n",
       "  'capability',\n",
       "  'of',\n",
       "  'computational',\n",
       "  'systems',\n",
       "  'to',\n",
       "  'perform',\n",
       "  'tasks',\n",
       "  'typically'),\n",
       " ('the',\n",
       "  'capability',\n",
       "  'of',\n",
       "  'computational',\n",
       "  'systems',\n",
       "  'to',\n",
       "  'perform',\n",
       "  'tasks',\n",
       "  'typically',\n",
       "  'associated'),\n",
       " ('capability',\n",
       "  'of',\n",
       "  'computational',\n",
       "  'systems',\n",
       "  'to',\n",
       "  'perform',\n",
       "  'tasks',\n",
       "  'typically',\n",
       "  'associated',\n",
       "  'with'),\n",
       " ('of',\n",
       "  'computational',\n",
       "  'systems',\n",
       "  'to',\n",
       "  'perform',\n",
       "  'tasks',\n",
       "  'typically',\n",
       "  'associated',\n",
       "  'with',\n",
       "  'human'),\n",
       " ('computational',\n",
       "  'systems',\n",
       "  'to',\n",
       "  'perform',\n",
       "  'tasks',\n",
       "  'typically',\n",
       "  'associated',\n",
       "  'with',\n",
       "  'human',\n",
       "  'intelligence'),\n",
       " ('systems',\n",
       "  'to',\n",
       "  'perform',\n",
       "  'tasks',\n",
       "  'typically',\n",
       "  'associated',\n",
       "  'with',\n",
       "  'human',\n",
       "  'intelligence',\n",
       "  ','),\n",
       " ('to',\n",
       "  'perform',\n",
       "  'tasks',\n",
       "  'typically',\n",
       "  'associated',\n",
       "  'with',\n",
       "  'human',\n",
       "  'intelligence',\n",
       "  ',',\n",
       "  'such'),\n",
       " ('perform',\n",
       "  'tasks',\n",
       "  'typically',\n",
       "  'associated',\n",
       "  'with',\n",
       "  'human',\n",
       "  'intelligence',\n",
       "  ',',\n",
       "  'such',\n",
       "  'as'),\n",
       " ('tasks',\n",
       "  'typically',\n",
       "  'associated',\n",
       "  'with',\n",
       "  'human',\n",
       "  'intelligence',\n",
       "  ',',\n",
       "  'such',\n",
       "  'as',\n",
       "  'learning'),\n",
       " ('typically',\n",
       "  'associated',\n",
       "  'with',\n",
       "  'human',\n",
       "  'intelligence',\n",
       "  ',',\n",
       "  'such',\n",
       "  'as',\n",
       "  'learning',\n",
       "  ','),\n",
       " ('associated',\n",
       "  'with',\n",
       "  'human',\n",
       "  'intelligence',\n",
       "  ',',\n",
       "  'such',\n",
       "  'as',\n",
       "  'learning',\n",
       "  ',',\n",
       "  'reasoning'),\n",
       " ('with',\n",
       "  'human',\n",
       "  'intelligence',\n",
       "  ',',\n",
       "  'such',\n",
       "  'as',\n",
       "  'learning',\n",
       "  ',',\n",
       "  'reasoning',\n",
       "  ','),\n",
       " ('human',\n",
       "  'intelligence',\n",
       "  ',',\n",
       "  'such',\n",
       "  'as',\n",
       "  'learning',\n",
       "  ',',\n",
       "  'reasoning',\n",
       "  ',',\n",
       "  'problem-solving'),\n",
       " ('intelligence',\n",
       "  ',',\n",
       "  'such',\n",
       "  'as',\n",
       "  'learning',\n",
       "  ',',\n",
       "  'reasoning',\n",
       "  ',',\n",
       "  'problem-solving',\n",
       "  ','),\n",
       " (',',\n",
       "  'such',\n",
       "  'as',\n",
       "  'learning',\n",
       "  ',',\n",
       "  'reasoning',\n",
       "  ',',\n",
       "  'problem-solving',\n",
       "  ',',\n",
       "  'perception'),\n",
       " ('such',\n",
       "  'as',\n",
       "  'learning',\n",
       "  ',',\n",
       "  'reasoning',\n",
       "  ',',\n",
       "  'problem-solving',\n",
       "  ',',\n",
       "  'perception',\n",
       "  ','),\n",
       " ('as',\n",
       "  'learning',\n",
       "  ',',\n",
       "  'reasoning',\n",
       "  ',',\n",
       "  'problem-solving',\n",
       "  ',',\n",
       "  'perception',\n",
       "  ',',\n",
       "  'and'),\n",
       " ('learning',\n",
       "  ',',\n",
       "  'reasoning',\n",
       "  ',',\n",
       "  'problem-solving',\n",
       "  ',',\n",
       "  'perception',\n",
       "  ',',\n",
       "  'and',\n",
       "  'decision-making'),\n",
       " (',',\n",
       "  'reasoning',\n",
       "  ',',\n",
       "  'problem-solving',\n",
       "  ',',\n",
       "  'perception',\n",
       "  ',',\n",
       "  'and',\n",
       "  'decision-making',\n",
       "  '.'),\n",
       " ('reasoning',\n",
       "  ',',\n",
       "  'problem-solving',\n",
       "  ',',\n",
       "  'perception',\n",
       "  ',',\n",
       "  'and',\n",
       "  'decision-making',\n",
       "  '.',\n",
       "  'It'),\n",
       " (',',\n",
       "  'problem-solving',\n",
       "  ',',\n",
       "  'perception',\n",
       "  ',',\n",
       "  'and',\n",
       "  'decision-making',\n",
       "  '.',\n",
       "  'It',\n",
       "  'is'),\n",
       " ('problem-solving',\n",
       "  ',',\n",
       "  'perception',\n",
       "  ',',\n",
       "  'and',\n",
       "  'decision-making',\n",
       "  '.',\n",
       "  'It',\n",
       "  'is',\n",
       "  'a'),\n",
       " (',',\n",
       "  'perception',\n",
       "  ',',\n",
       "  'and',\n",
       "  'decision-making',\n",
       "  '.',\n",
       "  'It',\n",
       "  'is',\n",
       "  'a',\n",
       "  'field'),\n",
       " ('perception',\n",
       "  ',',\n",
       "  'and',\n",
       "  'decision-making',\n",
       "  '.',\n",
       "  'It',\n",
       "  'is',\n",
       "  'a',\n",
       "  'field',\n",
       "  'of'),\n",
       " (',',\n",
       "  'and',\n",
       "  'decision-making',\n",
       "  '.',\n",
       "  'It',\n",
       "  'is',\n",
       "  'a',\n",
       "  'field',\n",
       "  'of',\n",
       "  'research'),\n",
       " ('and',\n",
       "  'decision-making',\n",
       "  '.',\n",
       "  'It',\n",
       "  'is',\n",
       "  'a',\n",
       "  'field',\n",
       "  'of',\n",
       "  'research',\n",
       "  'in'),\n",
       " ('decision-making',\n",
       "  '.',\n",
       "  'It',\n",
       "  'is',\n",
       "  'a',\n",
       "  'field',\n",
       "  'of',\n",
       "  'research',\n",
       "  'in',\n",
       "  'computer'),\n",
       " ('.',\n",
       "  'It',\n",
       "  'is',\n",
       "  'a',\n",
       "  'field',\n",
       "  'of',\n",
       "  'research',\n",
       "  'in',\n",
       "  'computer',\n",
       "  'science'),\n",
       " ('It',\n",
       "  'is',\n",
       "  'a',\n",
       "  'field',\n",
       "  'of',\n",
       "  'research',\n",
       "  'in',\n",
       "  'computer',\n",
       "  'science',\n",
       "  'that'),\n",
       " ('is',\n",
       "  'a',\n",
       "  'field',\n",
       "  'of',\n",
       "  'research',\n",
       "  'in',\n",
       "  'computer',\n",
       "  'science',\n",
       "  'that',\n",
       "  'develops'),\n",
       " ('a',\n",
       "  'field',\n",
       "  'of',\n",
       "  'research',\n",
       "  'in',\n",
       "  'computer',\n",
       "  'science',\n",
       "  'that',\n",
       "  'develops',\n",
       "  'and'),\n",
       " ('field',\n",
       "  'of',\n",
       "  'research',\n",
       "  'in',\n",
       "  'computer',\n",
       "  'science',\n",
       "  'that',\n",
       "  'develops',\n",
       "  'and',\n",
       "  'studies'),\n",
       " ('of',\n",
       "  'research',\n",
       "  'in',\n",
       "  'computer',\n",
       "  'science',\n",
       "  'that',\n",
       "  'develops',\n",
       "  'and',\n",
       "  'studies',\n",
       "  'methods'),\n",
       " ('research',\n",
       "  'in',\n",
       "  'computer',\n",
       "  'science',\n",
       "  'that',\n",
       "  'develops',\n",
       "  'and',\n",
       "  'studies',\n",
       "  'methods',\n",
       "  'and'),\n",
       " ('in',\n",
       "  'computer',\n",
       "  'science',\n",
       "  'that',\n",
       "  'develops',\n",
       "  'and',\n",
       "  'studies',\n",
       "  'methods',\n",
       "  'and',\n",
       "  'software'),\n",
       " ('computer',\n",
       "  'science',\n",
       "  'that',\n",
       "  'develops',\n",
       "  'and',\n",
       "  'studies',\n",
       "  'methods',\n",
       "  'and',\n",
       "  'software',\n",
       "  'that'),\n",
       " ('science',\n",
       "  'that',\n",
       "  'develops',\n",
       "  'and',\n",
       "  'studies',\n",
       "  'methods',\n",
       "  'and',\n",
       "  'software',\n",
       "  'that',\n",
       "  'enable'),\n",
       " ('that',\n",
       "  'develops',\n",
       "  'and',\n",
       "  'studies',\n",
       "  'methods',\n",
       "  'and',\n",
       "  'software',\n",
       "  'that',\n",
       "  'enable',\n",
       "  'machines'),\n",
       " ('develops',\n",
       "  'and',\n",
       "  'studies',\n",
       "  'methods',\n",
       "  'and',\n",
       "  'software',\n",
       "  'that',\n",
       "  'enable',\n",
       "  'machines',\n",
       "  'to'),\n",
       " ('and',\n",
       "  'studies',\n",
       "  'methods',\n",
       "  'and',\n",
       "  'software',\n",
       "  'that',\n",
       "  'enable',\n",
       "  'machines',\n",
       "  'to',\n",
       "  'perceive'),\n",
       " ('studies',\n",
       "  'methods',\n",
       "  'and',\n",
       "  'software',\n",
       "  'that',\n",
       "  'enable',\n",
       "  'machines',\n",
       "  'to',\n",
       "  'perceive',\n",
       "  'their'),\n",
       " ('methods',\n",
       "  'and',\n",
       "  'software',\n",
       "  'that',\n",
       "  'enable',\n",
       "  'machines',\n",
       "  'to',\n",
       "  'perceive',\n",
       "  'their',\n",
       "  'environment'),\n",
       " ('and',\n",
       "  'software',\n",
       "  'that',\n",
       "  'enable',\n",
       "  'machines',\n",
       "  'to',\n",
       "  'perceive',\n",
       "  'their',\n",
       "  'environment',\n",
       "  'and'),\n",
       " ('software',\n",
       "  'that',\n",
       "  'enable',\n",
       "  'machines',\n",
       "  'to',\n",
       "  'perceive',\n",
       "  'their',\n",
       "  'environment',\n",
       "  'and',\n",
       "  'use'),\n",
       " ('that',\n",
       "  'enable',\n",
       "  'machines',\n",
       "  'to',\n",
       "  'perceive',\n",
       "  'their',\n",
       "  'environment',\n",
       "  'and',\n",
       "  'use',\n",
       "  'learning'),\n",
       " ('enable',\n",
       "  'machines',\n",
       "  'to',\n",
       "  'perceive',\n",
       "  'their',\n",
       "  'environment',\n",
       "  'and',\n",
       "  'use',\n",
       "  'learning',\n",
       "  'and'),\n",
       " ('machines',\n",
       "  'to',\n",
       "  'perceive',\n",
       "  'their',\n",
       "  'environment',\n",
       "  'and',\n",
       "  'use',\n",
       "  'learning',\n",
       "  'and',\n",
       "  'intelligence'),\n",
       " ('to',\n",
       "  'perceive',\n",
       "  'their',\n",
       "  'environment',\n",
       "  'and',\n",
       "  'use',\n",
       "  'learning',\n",
       "  'and',\n",
       "  'intelligence',\n",
       "  'to'),\n",
       " ('perceive',\n",
       "  'their',\n",
       "  'environment',\n",
       "  'and',\n",
       "  'use',\n",
       "  'learning',\n",
       "  'and',\n",
       "  'intelligence',\n",
       "  'to',\n",
       "  'take'),\n",
       " ('their',\n",
       "  'environment',\n",
       "  'and',\n",
       "  'use',\n",
       "  'learning',\n",
       "  'and',\n",
       "  'intelligence',\n",
       "  'to',\n",
       "  'take',\n",
       "  'actions'),\n",
       " ('environment',\n",
       "  'and',\n",
       "  'use',\n",
       "  'learning',\n",
       "  'and',\n",
       "  'intelligence',\n",
       "  'to',\n",
       "  'take',\n",
       "  'actions',\n",
       "  'that'),\n",
       " ('and',\n",
       "  'use',\n",
       "  'learning',\n",
       "  'and',\n",
       "  'intelligence',\n",
       "  'to',\n",
       "  'take',\n",
       "  'actions',\n",
       "  'that',\n",
       "  'maximize'),\n",
       " ('use',\n",
       "  'learning',\n",
       "  'and',\n",
       "  'intelligence',\n",
       "  'to',\n",
       "  'take',\n",
       "  'actions',\n",
       "  'that',\n",
       "  'maximize',\n",
       "  'their'),\n",
       " ('learning',\n",
       "  'and',\n",
       "  'intelligence',\n",
       "  'to',\n",
       "  'take',\n",
       "  'actions',\n",
       "  'that',\n",
       "  'maximize',\n",
       "  'their',\n",
       "  'chances'),\n",
       " ('and',\n",
       "  'intelligence',\n",
       "  'to',\n",
       "  'take',\n",
       "  'actions',\n",
       "  'that',\n",
       "  'maximize',\n",
       "  'their',\n",
       "  'chances',\n",
       "  'of'),\n",
       " ('intelligence',\n",
       "  'to',\n",
       "  'take',\n",
       "  'actions',\n",
       "  'that',\n",
       "  'maximize',\n",
       "  'their',\n",
       "  'chances',\n",
       "  'of',\n",
       "  'achieving'),\n",
       " ('to',\n",
       "  'take',\n",
       "  'actions',\n",
       "  'that',\n",
       "  'maximize',\n",
       "  'their',\n",
       "  'chances',\n",
       "  'of',\n",
       "  'achieving',\n",
       "  'defined'),\n",
       " ('take',\n",
       "  'actions',\n",
       "  'that',\n",
       "  'maximize',\n",
       "  'their',\n",
       "  'chances',\n",
       "  'of',\n",
       "  'achieving',\n",
       "  'defined',\n",
       "  'goals'),\n",
       " ('actions',\n",
       "  'that',\n",
       "  'maximize',\n",
       "  'their',\n",
       "  'chances',\n",
       "  'of',\n",
       "  'achieving',\n",
       "  'defined',\n",
       "  'goals',\n",
       "  '.'),\n",
       " ('that',\n",
       "  'maximize',\n",
       "  'their',\n",
       "  'chances',\n",
       "  'of',\n",
       "  'achieving',\n",
       "  'defined',\n",
       "  'goals',\n",
       "  '.',\n",
       "  '['),\n",
       " ('maximize',\n",
       "  'their',\n",
       "  'chances',\n",
       "  'of',\n",
       "  'achieving',\n",
       "  'defined',\n",
       "  'goals',\n",
       "  '.',\n",
       "  '[',\n",
       "  '1'),\n",
       " ('their',\n",
       "  'chances',\n",
       "  'of',\n",
       "  'achieving',\n",
       "  'defined',\n",
       "  'goals',\n",
       "  '.',\n",
       "  '[',\n",
       "  '1',\n",
       "  ']'),\n",
       " ('chances',\n",
       "  'of',\n",
       "  'achieving',\n",
       "  'defined',\n",
       "  'goals',\n",
       "  '.',\n",
       "  '[',\n",
       "  '1',\n",
       "  ']',\n",
       "  'Such'),\n",
       " ('of',\n",
       "  'achieving',\n",
       "  'defined',\n",
       "  'goals',\n",
       "  '.',\n",
       "  '[',\n",
       "  '1',\n",
       "  ']',\n",
       "  'Such',\n",
       "  'machines'),\n",
       " ('achieving',\n",
       "  'defined',\n",
       "  'goals',\n",
       "  '.',\n",
       "  '[',\n",
       "  '1',\n",
       "  ']',\n",
       "  'Such',\n",
       "  'machines',\n",
       "  'may'),\n",
       " ('defined', 'goals', '.', '[', '1', ']', 'Such', 'machines', 'may', 'be'),\n",
       " ('goals', '.', '[', '1', ']', 'Such', 'machines', 'may', 'be', 'called'),\n",
       " ('.', '[', '1', ']', 'Such', 'machines', 'may', 'be', 'called', 'AIs'),\n",
       " ('[', '1', ']', 'Such', 'machines', 'may', 'be', 'called', 'AIs', '.')]"
      ]
     },
     "execution_count": 91,
     "metadata": {},
     "output_type": "execute_result"
    }
   ],
   "source": [
    "tocken_ngram"
   ]
  },
  {
   "cell_type": "code",
   "execution_count": 93,
   "id": "8de952dc-9e76-41d9-92a6-5aaf22df3157",
   "metadata": {},
   "outputs": [
    {
     "data": {
      "text/plain": [
       "84"
      ]
     },
     "execution_count": 93,
     "metadata": {},
     "output_type": "execute_result"
    }
   ],
   "source": [
    "len(Word_Tock1)"
   ]
  },
  {
   "cell_type": "code",
   "execution_count": 95,
   "id": "1bdff1cc-6dbd-4b0b-88cd-d3a64509dafd",
   "metadata": {},
   "outputs": [],
   "source": [
    "tocken_ngram=list(ngrams(Word_Tock1,85))"
   ]
  },
  {
   "cell_type": "code",
   "execution_count": 97,
   "id": "196e05d1-5fc4-4445-b739-4803040f525b",
   "metadata": {},
   "outputs": [
    {
     "data": {
      "text/plain": [
       "[]"
      ]
     },
     "execution_count": 97,
     "metadata": {},
     "output_type": "execute_result"
    }
   ],
   "source": [
    "tocken_ngram"
   ]
  },
  {
   "cell_type": "code",
   "execution_count": 99,
   "id": "ebd77b7f-b11f-495a-ac28-79a813ef1e6f",
   "metadata": {},
   "outputs": [
    {
     "data": {
      "text/plain": [
       "[('Artificial',\n",
       "  'intelligence',\n",
       "  '(',\n",
       "  'AI',\n",
       "  ')',\n",
       "  'refers',\n",
       "  'to',\n",
       "  'the',\n",
       "  'capability',\n",
       "  'of',\n",
       "  'computational',\n",
       "  'systems',\n",
       "  'to',\n",
       "  'perform',\n",
       "  'tasks',\n",
       "  'typically',\n",
       "  'associated',\n",
       "  'with',\n",
       "  'human',\n",
       "  'intelligence',\n",
       "  ',',\n",
       "  'such',\n",
       "  'as',\n",
       "  'learning',\n",
       "  ',',\n",
       "  'reasoning',\n",
       "  ',',\n",
       "  'problem-solving',\n",
       "  ',',\n",
       "  'perception',\n",
       "  ',',\n",
       "  'and',\n",
       "  'decision-making',\n",
       "  '.',\n",
       "  'It',\n",
       "  'is',\n",
       "  'a',\n",
       "  'field',\n",
       "  'of',\n",
       "  'research',\n",
       "  'in',\n",
       "  'computer',\n",
       "  'science',\n",
       "  'that',\n",
       "  'develops',\n",
       "  'and',\n",
       "  'studies',\n",
       "  'methods',\n",
       "  'and',\n",
       "  'software',\n",
       "  'that',\n",
       "  'enable',\n",
       "  'machines',\n",
       "  'to',\n",
       "  'perceive',\n",
       "  'their',\n",
       "  'environment',\n",
       "  'and',\n",
       "  'use',\n",
       "  'learning',\n",
       "  'and',\n",
       "  'intelligence',\n",
       "  'to',\n",
       "  'take',\n",
       "  'actions',\n",
       "  'that',\n",
       "  'maximize',\n",
       "  'their',\n",
       "  'chances',\n",
       "  'of',\n",
       "  'achieving',\n",
       "  'defined',\n",
       "  'goals',\n",
       "  '.',\n",
       "  '[',\n",
       "  '1',\n",
       "  ']',\n",
       "  'Such',\n",
       "  'machines',\n",
       "  'may',\n",
       "  'be',\n",
       "  'called',\n",
       "  'AIs',\n",
       "  '.')]"
      ]
     },
     "execution_count": 99,
     "metadata": {},
     "output_type": "execute_result"
    }
   ],
   "source": [
    "tocken_ngram=list(ngrams(Word_Tock1,84))\n",
    "tocken_ngram"
   ]
  },
  {
   "cell_type": "markdown",
   "id": "6c0ec8e9-3cff-4677-9256-889ddb176ee7",
   "metadata": {},
   "source": [
    "# Stemmer - which converts word into root word"
   ]
  },
  {
   "cell_type": "code",
   "execution_count": 102,
   "id": "e0069745-98a6-4e54-b720-c4673486b51d",
   "metadata": {},
   "outputs": [],
   "source": [
    "# 1. porterstemmer"
   ]
  },
  {
   "cell_type": "code",
   "execution_count": 104,
   "id": "f750b711-b047-498a-a61e-4a94a12d18a0",
   "metadata": {},
   "outputs": [],
   "source": [
    "from nltk.stem import PorterStemmer"
   ]
  },
  {
   "cell_type": "code",
   "execution_count": 106,
   "id": "106de92f-606b-4cea-99c3-0655799f70dd",
   "metadata": {},
   "outputs": [],
   "source": [
    "pst=PorterStemmer()"
   ]
  },
  {
   "cell_type": "code",
   "execution_count": 110,
   "id": "e0a75bb8-5729-4856-817a-4f3916a2cdd2",
   "metadata": {},
   "outputs": [
    {
     "data": {
      "text/plain": [
       "'affect'"
      ]
     },
     "execution_count": 110,
     "metadata": {},
     "output_type": "execute_result"
    }
   ],
   "source": [
    "pst.stem('affection')"
   ]
  },
  {
   "cell_type": "code",
   "execution_count": 112,
   "id": "c5616963-558a-4d24-9b9d-dcc707ffff98",
   "metadata": {},
   "outputs": [
    {
     "data": {
      "text/plain": [
       "'play'"
      ]
     },
     "execution_count": 112,
     "metadata": {},
     "output_type": "execute_result"
    }
   ],
   "source": [
    "pst.stem('playing')"
   ]
  },
  {
   "cell_type": "code",
   "execution_count": 114,
   "id": "66b042ce-c8b0-4f4e-a7d3-e9273c6a0bbb",
   "metadata": {},
   "outputs": [
    {
     "data": {
      "text/plain": [
       "'player'"
      ]
     },
     "execution_count": 114,
     "metadata": {},
     "output_type": "execute_result"
    }
   ],
   "source": [
    "pst.stem('player')"
   ]
  },
  {
   "cell_type": "code",
   "execution_count": 122,
   "id": "d6d39874-686e-4577-bb74-b92b3e26226c",
   "metadata": {},
   "outputs": [
    {
     "name": "stdout",
     "output_type": "stream",
     "text": [
      "give\n",
      "given\n",
      "gave\n",
      "give\n"
     ]
    }
   ],
   "source": [
    "words=['give','given','gave','giving']\n",
    "for i in words:\n",
    "    print(pst.stem(i))"
   ]
  },
  {
   "cell_type": "code",
   "execution_count": 35,
   "id": "5a3e34a6-92c9-47d0-a04a-1bf2b4ff73d2",
   "metadata": {},
   "outputs": [
    {
     "ename": "NameError",
     "evalue": "name 'pst' is not defined",
     "output_type": "error",
     "traceback": [
      "\u001b[0;31m---------------------------------------------------------------------------\u001b[0m",
      "\u001b[0;31mNameError\u001b[0m                                 Traceback (most recent call last)",
      "Cell \u001b[0;32mIn[35], line 3\u001b[0m\n\u001b[1;32m      1\u001b[0m words_to_stem\u001b[38;5;241m=\u001b[39m[ \u001b[38;5;124m'\u001b[39m\u001b[38;5;124mgive\u001b[39m\u001b[38;5;124m'\u001b[39m,\u001b[38;5;124m'\u001b[39m\u001b[38;5;124mgiving\u001b[39m\u001b[38;5;124m'\u001b[39m, \u001b[38;5;124m'\u001b[39m\u001b[38;5;124mgiven\u001b[39m\u001b[38;5;124m'\u001b[39m, \u001b[38;5;124m'\u001b[39m\u001b[38;5;124mgaved\u001b[39m\u001b[38;5;124m'\u001b[39m, \u001b[38;5;124m'\u001b[39m\u001b[38;5;124mthinking\u001b[39m\u001b[38;5;124m'\u001b[39m, \u001b[38;5;124m'\u001b[39m\u001b[38;5;124mloving\u001b[39m\u001b[38;5;124m'\u001b[39m, \u001b[38;5;124m'\u001b[39m\u001b[38;5;124mmaximum\u001b[39m\u001b[38;5;124m'\u001b[39m ]\n\u001b[1;32m      2\u001b[0m \u001b[38;5;28;01mfor\u001b[39;00m i \u001b[38;5;129;01min\u001b[39;00m words_to_stem:\n\u001b[0;32m----> 3\u001b[0m     \u001b[38;5;28mprint\u001b[39m(i \u001b[38;5;241m+\u001b[39m\u001b[38;5;124m'\u001b[39m\u001b[38;5;124m:\u001b[39m\u001b[38;5;124m'\u001b[39m \u001b[38;5;241m+\u001b[39mpst\u001b[38;5;241m.\u001b[39mstem(i))\n",
      "\u001b[0;31mNameError\u001b[0m: name 'pst' is not defined"
     ]
    }
   ],
   "source": [
    "words_to_stem=[ 'give','giving', 'given', 'gaved', 'thinking', 'loving', 'maximum' ]\n",
    "for i in words_to_stem:\n",
    "    print(i +':' +pst.stem(i))"
   ]
  },
  {
   "cell_type": "code",
   "execution_count": 5,
   "id": "e322a86f-a985-49b5-9c81-d3bc96d780df",
   "metadata": {},
   "outputs": [],
   "source": [
    "from nltk.stem import SnowballStemmer"
   ]
  },
  {
   "cell_type": "code",
   "execution_count": 9,
   "id": "43cdc127-18b1-4340-89ae-f1db7a46980d",
   "metadata": {},
   "outputs": [],
   "source": [
    "stemmer=SnowballStemmer(\"german\")"
   ]
  },
  {
   "cell_type": "code",
   "execution_count": 11,
   "id": "039cc8c8-2215-496d-a499-2ff570747174",
   "metadata": {},
   "outputs": [
    {
     "data": {
      "text/plain": [
       "'autobahn'"
      ]
     },
     "execution_count": 11,
     "metadata": {},
     "output_type": "execute_result"
    }
   ],
   "source": [
    " stemmer.stem(\"Autobahnen\")"
   ]
  },
  {
   "cell_type": "code",
   "execution_count": 21,
   "id": "c16f90e7-c171-4063-9e83-4d1ee289747a",
   "metadata": {},
   "outputs": [],
   "source": [
    "from nltk.stem import wordnet"
   ]
  },
  {
   "cell_type": "code",
   "execution_count": 29,
   "id": "69e23753-2bb6-4c24-a53f-157b14c9f078",
   "metadata": {},
   "outputs": [],
   "source": [
    "from  nltk.stem import WordNetLemmatizer"
   ]
  },
  {
   "cell_type": "code",
   "execution_count": 31,
   "id": "03b9bcf0-d142-4ae5-8825-44aa711cb19f",
   "metadata": {},
   "outputs": [],
   "source": [
    "word_lem=WordNetLemmatizer()"
   ]
  },
  {
   "cell_type": "code",
   "execution_count": 37,
   "id": "4992e4cf-b9eb-4903-9f94-b0f049689662",
   "metadata": {},
   "outputs": [
    {
     "data": {
      "text/plain": [
       "['give', 'giving', 'given', 'gaved', 'thinking', 'loving', 'maximum']"
      ]
     },
     "execution_count": 37,
     "metadata": {},
     "output_type": "execute_result"
    }
   ],
   "source": [
    "words_to_stem"
   ]
  },
  {
   "cell_type": "code",
   "execution_count": 41,
   "id": "f3f7cd58-57ad-4b6c-924a-3a2f0b946422",
   "metadata": {},
   "outputs": [
    {
     "name": "stdout",
     "output_type": "stream",
     "text": [
      "give:give\n",
      "giving:giving\n",
      "given:given\n",
      "gaved:gaved\n",
      "thinking:thinking\n",
      "loving:loving\n",
      "maximum:maximum\n"
     ]
    }
   ],
   "source": [
    "for word in words_to_stem:\n",
    "    print(word +':'+word_lem.lemmatize(word))"
   ]
  },
  {
   "cell_type": "code",
   "execution_count": null,
   "id": "0bc39aa4-3888-435e-aec7-6207d891356d",
   "metadata": {},
   "outputs": [],
   "source": []
  },
  {
   "cell_type": "code",
   "execution_count": 43,
   "id": "577d959c-6a17-40a9-b2e9-ccc17237927b",
   "metadata": {},
   "outputs": [],
   "source": [
    "from nltk.corpus import stopwords"
   ]
  },
  {
   "cell_type": "code",
   "execution_count": 45,
   "id": "d4d21d11-f140-4b41-a6fc-9b203db2cc9e",
   "metadata": {},
   "outputs": [
    {
     "data": {
      "text/plain": [
       "['a',\n",
       " 'about',\n",
       " 'above',\n",
       " 'after',\n",
       " 'again',\n",
       " 'against',\n",
       " 'ain',\n",
       " 'all',\n",
       " 'am',\n",
       " 'an',\n",
       " 'and',\n",
       " 'any',\n",
       " 'are',\n",
       " 'aren',\n",
       " \"aren't\",\n",
       " 'as',\n",
       " 'at',\n",
       " 'be',\n",
       " 'because',\n",
       " 'been',\n",
       " 'before',\n",
       " 'being',\n",
       " 'below',\n",
       " 'between',\n",
       " 'both',\n",
       " 'but',\n",
       " 'by',\n",
       " 'can',\n",
       " 'couldn',\n",
       " \"couldn't\",\n",
       " 'd',\n",
       " 'did',\n",
       " 'didn',\n",
       " \"didn't\",\n",
       " 'do',\n",
       " 'does',\n",
       " 'doesn',\n",
       " \"doesn't\",\n",
       " 'doing',\n",
       " 'don',\n",
       " \"don't\",\n",
       " 'down',\n",
       " 'during',\n",
       " 'each',\n",
       " 'few',\n",
       " 'for',\n",
       " 'from',\n",
       " 'further',\n",
       " 'had',\n",
       " 'hadn',\n",
       " \"hadn't\",\n",
       " 'has',\n",
       " 'hasn',\n",
       " \"hasn't\",\n",
       " 'have',\n",
       " 'haven',\n",
       " \"haven't\",\n",
       " 'having',\n",
       " 'he',\n",
       " \"he'd\",\n",
       " \"he'll\",\n",
       " 'her',\n",
       " 'here',\n",
       " 'hers',\n",
       " 'herself',\n",
       " \"he's\",\n",
       " 'him',\n",
       " 'himself',\n",
       " 'his',\n",
       " 'how',\n",
       " 'i',\n",
       " \"i'd\",\n",
       " 'if',\n",
       " \"i'll\",\n",
       " \"i'm\",\n",
       " 'in',\n",
       " 'into',\n",
       " 'is',\n",
       " 'isn',\n",
       " \"isn't\",\n",
       " 'it',\n",
       " \"it'd\",\n",
       " \"it'll\",\n",
       " \"it's\",\n",
       " 'its',\n",
       " 'itself',\n",
       " \"i've\",\n",
       " 'just',\n",
       " 'll',\n",
       " 'm',\n",
       " 'ma',\n",
       " 'me',\n",
       " 'mightn',\n",
       " \"mightn't\",\n",
       " 'more',\n",
       " 'most',\n",
       " 'mustn',\n",
       " \"mustn't\",\n",
       " 'my',\n",
       " 'myself',\n",
       " 'needn',\n",
       " \"needn't\",\n",
       " 'no',\n",
       " 'nor',\n",
       " 'not',\n",
       " 'now',\n",
       " 'o',\n",
       " 'of',\n",
       " 'off',\n",
       " 'on',\n",
       " 'once',\n",
       " 'only',\n",
       " 'or',\n",
       " 'other',\n",
       " 'our',\n",
       " 'ours',\n",
       " 'ourselves',\n",
       " 'out',\n",
       " 'over',\n",
       " 'own',\n",
       " 're',\n",
       " 's',\n",
       " 'same',\n",
       " 'shan',\n",
       " \"shan't\",\n",
       " 'she',\n",
       " \"she'd\",\n",
       " \"she'll\",\n",
       " \"she's\",\n",
       " 'should',\n",
       " 'shouldn',\n",
       " \"shouldn't\",\n",
       " \"should've\",\n",
       " 'so',\n",
       " 'some',\n",
       " 'such',\n",
       " 't',\n",
       " 'than',\n",
       " 'that',\n",
       " \"that'll\",\n",
       " 'the',\n",
       " 'their',\n",
       " 'theirs',\n",
       " 'them',\n",
       " 'themselves',\n",
       " 'then',\n",
       " 'there',\n",
       " 'these',\n",
       " 'they',\n",
       " \"they'd\",\n",
       " \"they'll\",\n",
       " \"they're\",\n",
       " \"they've\",\n",
       " 'this',\n",
       " 'those',\n",
       " 'through',\n",
       " 'to',\n",
       " 'too',\n",
       " 'under',\n",
       " 'until',\n",
       " 'up',\n",
       " 've',\n",
       " 'very',\n",
       " 'was',\n",
       " 'wasn',\n",
       " \"wasn't\",\n",
       " 'we',\n",
       " \"we'd\",\n",
       " \"we'll\",\n",
       " \"we're\",\n",
       " 'were',\n",
       " 'weren',\n",
       " \"weren't\",\n",
       " \"we've\",\n",
       " 'what',\n",
       " 'when',\n",
       " 'where',\n",
       " 'which',\n",
       " 'while',\n",
       " 'who',\n",
       " 'whom',\n",
       " 'why',\n",
       " 'will',\n",
       " 'with',\n",
       " 'won',\n",
       " \"won't\",\n",
       " 'wouldn',\n",
       " \"wouldn't\",\n",
       " 'y',\n",
       " 'you',\n",
       " \"you'd\",\n",
       " \"you'll\",\n",
       " 'your',\n",
       " \"you're\",\n",
       " 'yours',\n",
       " 'yourself',\n",
       " 'yourselves',\n",
       " \"you've\"]"
      ]
     },
     "execution_count": 45,
     "metadata": {},
     "output_type": "execute_result"
    }
   ],
   "source": [
    "stopwords.words(\"english\")"
   ]
  },
  {
   "cell_type": "code",
   "execution_count": 47,
   "id": "ebd55d2e-a07a-41a9-b8c9-8478941a006f",
   "metadata": {},
   "outputs": [
    {
     "data": {
      "text/plain": [
       "198"
      ]
     },
     "execution_count": 47,
     "metadata": {},
     "output_type": "execute_result"
    }
   ],
   "source": [
    "len(stopwords.words(\"english\"))"
   ]
  },
  {
   "cell_type": "code",
   "execution_count": 49,
   "id": "a25490d7-0b2d-41be-8ae0-1e4a4cdfb5f5",
   "metadata": {},
   "outputs": [
    {
     "data": {
      "text/plain": [
       "['au',\n",
       " 'aux',\n",
       " 'avec',\n",
       " 'ce',\n",
       " 'ces',\n",
       " 'dans',\n",
       " 'de',\n",
       " 'des',\n",
       " 'du',\n",
       " 'elle',\n",
       " 'en',\n",
       " 'et',\n",
       " 'eux',\n",
       " 'il',\n",
       " 'ils',\n",
       " 'je',\n",
       " 'la',\n",
       " 'le',\n",
       " 'les',\n",
       " 'leur',\n",
       " 'lui',\n",
       " 'ma',\n",
       " 'mais',\n",
       " 'me',\n",
       " 'même',\n",
       " 'mes',\n",
       " 'moi',\n",
       " 'mon',\n",
       " 'ne',\n",
       " 'nos',\n",
       " 'notre',\n",
       " 'nous',\n",
       " 'on',\n",
       " 'ou',\n",
       " 'par',\n",
       " 'pas',\n",
       " 'pour',\n",
       " 'qu',\n",
       " 'que',\n",
       " 'qui',\n",
       " 'sa',\n",
       " 'se',\n",
       " 'ses',\n",
       " 'son',\n",
       " 'sur',\n",
       " 'ta',\n",
       " 'te',\n",
       " 'tes',\n",
       " 'toi',\n",
       " 'ton',\n",
       " 'tu',\n",
       " 'un',\n",
       " 'une',\n",
       " 'vos',\n",
       " 'votre',\n",
       " 'vous',\n",
       " 'c',\n",
       " 'd',\n",
       " 'j',\n",
       " 'l',\n",
       " 'à',\n",
       " 'm',\n",
       " 'n',\n",
       " 's',\n",
       " 't',\n",
       " 'y',\n",
       " 'été',\n",
       " 'étée',\n",
       " 'étées',\n",
       " 'étés',\n",
       " 'étant',\n",
       " 'étante',\n",
       " 'étants',\n",
       " 'étantes',\n",
       " 'suis',\n",
       " 'es',\n",
       " 'est',\n",
       " 'sommes',\n",
       " 'êtes',\n",
       " 'sont',\n",
       " 'serai',\n",
       " 'seras',\n",
       " 'sera',\n",
       " 'serons',\n",
       " 'serez',\n",
       " 'seront',\n",
       " 'serais',\n",
       " 'serait',\n",
       " 'serions',\n",
       " 'seriez',\n",
       " 'seraient',\n",
       " 'étais',\n",
       " 'était',\n",
       " 'étions',\n",
       " 'étiez',\n",
       " 'étaient',\n",
       " 'fus',\n",
       " 'fut',\n",
       " 'fûmes',\n",
       " 'fûtes',\n",
       " 'furent',\n",
       " 'sois',\n",
       " 'soit',\n",
       " 'soyons',\n",
       " 'soyez',\n",
       " 'soient',\n",
       " 'fusse',\n",
       " 'fusses',\n",
       " 'fût',\n",
       " 'fussions',\n",
       " 'fussiez',\n",
       " 'fussent',\n",
       " 'ayant',\n",
       " 'ayante',\n",
       " 'ayantes',\n",
       " 'ayants',\n",
       " 'eu',\n",
       " 'eue',\n",
       " 'eues',\n",
       " 'eus',\n",
       " 'ai',\n",
       " 'as',\n",
       " 'avons',\n",
       " 'avez',\n",
       " 'ont',\n",
       " 'aurai',\n",
       " 'auras',\n",
       " 'aura',\n",
       " 'aurons',\n",
       " 'aurez',\n",
       " 'auront',\n",
       " 'aurais',\n",
       " 'aurait',\n",
       " 'aurions',\n",
       " 'auriez',\n",
       " 'auraient',\n",
       " 'avais',\n",
       " 'avait',\n",
       " 'avions',\n",
       " 'aviez',\n",
       " 'avaient',\n",
       " 'eut',\n",
       " 'eûmes',\n",
       " 'eûtes',\n",
       " 'eurent',\n",
       " 'aie',\n",
       " 'aies',\n",
       " 'ait',\n",
       " 'ayons',\n",
       " 'ayez',\n",
       " 'aient',\n",
       " 'eusse',\n",
       " 'eusses',\n",
       " 'eût',\n",
       " 'eussions',\n",
       " 'eussiez',\n",
       " 'eussent']"
      ]
     },
     "execution_count": 49,
     "metadata": {},
     "output_type": "execute_result"
    }
   ],
   "source": [
    "stopwords.words('french')"
   ]
  },
  {
   "cell_type": "code",
   "execution_count": 51,
   "id": "adbf1db6-53fa-45eb-aed8-62a74c7ebd80",
   "metadata": {},
   "outputs": [
    {
     "data": {
      "text/plain": [
       "['aber',\n",
       " 'alle',\n",
       " 'allem',\n",
       " 'allen',\n",
       " 'aller',\n",
       " 'alles',\n",
       " 'als',\n",
       " 'also',\n",
       " 'am',\n",
       " 'an',\n",
       " 'ander',\n",
       " 'andere',\n",
       " 'anderem',\n",
       " 'anderen',\n",
       " 'anderer',\n",
       " 'anderes',\n",
       " 'anderm',\n",
       " 'andern',\n",
       " 'anderr',\n",
       " 'anders',\n",
       " 'auch',\n",
       " 'auf',\n",
       " 'aus',\n",
       " 'bei',\n",
       " 'bin',\n",
       " 'bis',\n",
       " 'bist',\n",
       " 'da',\n",
       " 'damit',\n",
       " 'dann',\n",
       " 'der',\n",
       " 'den',\n",
       " 'des',\n",
       " 'dem',\n",
       " 'die',\n",
       " 'das',\n",
       " 'dass',\n",
       " 'daß',\n",
       " 'derselbe',\n",
       " 'derselben',\n",
       " 'denselben',\n",
       " 'desselben',\n",
       " 'demselben',\n",
       " 'dieselbe',\n",
       " 'dieselben',\n",
       " 'dasselbe',\n",
       " 'dazu',\n",
       " 'dein',\n",
       " 'deine',\n",
       " 'deinem',\n",
       " 'deinen',\n",
       " 'deiner',\n",
       " 'deines',\n",
       " 'denn',\n",
       " 'derer',\n",
       " 'dessen',\n",
       " 'dich',\n",
       " 'dir',\n",
       " 'du',\n",
       " 'dies',\n",
       " 'diese',\n",
       " 'diesem',\n",
       " 'diesen',\n",
       " 'dieser',\n",
       " 'dieses',\n",
       " 'doch',\n",
       " 'dort',\n",
       " 'durch',\n",
       " 'ein',\n",
       " 'eine',\n",
       " 'einem',\n",
       " 'einen',\n",
       " 'einer',\n",
       " 'eines',\n",
       " 'einig',\n",
       " 'einige',\n",
       " 'einigem',\n",
       " 'einigen',\n",
       " 'einiger',\n",
       " 'einiges',\n",
       " 'einmal',\n",
       " 'er',\n",
       " 'ihn',\n",
       " 'ihm',\n",
       " 'es',\n",
       " 'etwas',\n",
       " 'euer',\n",
       " 'eure',\n",
       " 'eurem',\n",
       " 'euren',\n",
       " 'eurer',\n",
       " 'eures',\n",
       " 'für',\n",
       " 'gegen',\n",
       " 'gewesen',\n",
       " 'hab',\n",
       " 'habe',\n",
       " 'haben',\n",
       " 'hat',\n",
       " 'hatte',\n",
       " 'hatten',\n",
       " 'hier',\n",
       " 'hin',\n",
       " 'hinter',\n",
       " 'ich',\n",
       " 'mich',\n",
       " 'mir',\n",
       " 'ihr',\n",
       " 'ihre',\n",
       " 'ihrem',\n",
       " 'ihren',\n",
       " 'ihrer',\n",
       " 'ihres',\n",
       " 'euch',\n",
       " 'im',\n",
       " 'in',\n",
       " 'indem',\n",
       " 'ins',\n",
       " 'ist',\n",
       " 'jede',\n",
       " 'jedem',\n",
       " 'jeden',\n",
       " 'jeder',\n",
       " 'jedes',\n",
       " 'jene',\n",
       " 'jenem',\n",
       " 'jenen',\n",
       " 'jener',\n",
       " 'jenes',\n",
       " 'jetzt',\n",
       " 'kann',\n",
       " 'kein',\n",
       " 'keine',\n",
       " 'keinem',\n",
       " 'keinen',\n",
       " 'keiner',\n",
       " 'keines',\n",
       " 'können',\n",
       " 'könnte',\n",
       " 'machen',\n",
       " 'man',\n",
       " 'manche',\n",
       " 'manchem',\n",
       " 'manchen',\n",
       " 'mancher',\n",
       " 'manches',\n",
       " 'mein',\n",
       " 'meine',\n",
       " 'meinem',\n",
       " 'meinen',\n",
       " 'meiner',\n",
       " 'meines',\n",
       " 'mit',\n",
       " 'muss',\n",
       " 'musste',\n",
       " 'nach',\n",
       " 'nicht',\n",
       " 'nichts',\n",
       " 'noch',\n",
       " 'nun',\n",
       " 'nur',\n",
       " 'ob',\n",
       " 'oder',\n",
       " 'ohne',\n",
       " 'sehr',\n",
       " 'sein',\n",
       " 'seine',\n",
       " 'seinem',\n",
       " 'seinen',\n",
       " 'seiner',\n",
       " 'seines',\n",
       " 'selbst',\n",
       " 'sich',\n",
       " 'sie',\n",
       " 'ihnen',\n",
       " 'sind',\n",
       " 'so',\n",
       " 'solche',\n",
       " 'solchem',\n",
       " 'solchen',\n",
       " 'solcher',\n",
       " 'solches',\n",
       " 'soll',\n",
       " 'sollte',\n",
       " 'sondern',\n",
       " 'sonst',\n",
       " 'über',\n",
       " 'um',\n",
       " 'und',\n",
       " 'uns',\n",
       " 'unsere',\n",
       " 'unserem',\n",
       " 'unseren',\n",
       " 'unser',\n",
       " 'unseres',\n",
       " 'unter',\n",
       " 'viel',\n",
       " 'vom',\n",
       " 'von',\n",
       " 'vor',\n",
       " 'während',\n",
       " 'war',\n",
       " 'waren',\n",
       " 'warst',\n",
       " 'was',\n",
       " 'weg',\n",
       " 'weil',\n",
       " 'weiter',\n",
       " 'welche',\n",
       " 'welchem',\n",
       " 'welchen',\n",
       " 'welcher',\n",
       " 'welches',\n",
       " 'wenn',\n",
       " 'werde',\n",
       " 'werden',\n",
       " 'wie',\n",
       " 'wieder',\n",
       " 'will',\n",
       " 'wir',\n",
       " 'wird',\n",
       " 'wirst',\n",
       " 'wo',\n",
       " 'wollen',\n",
       " 'wollte',\n",
       " 'würde',\n",
       " 'würden',\n",
       " 'zu',\n",
       " 'zum',\n",
       " 'zur',\n",
       " 'zwar',\n",
       " 'zwischen']"
      ]
     },
     "execution_count": 51,
     "metadata": {},
     "output_type": "execute_result"
    }
   ],
   "source": [
    "stopwords.words('german')"
   ]
  },
  {
   "cell_type": "code",
   "execution_count": 53,
   "id": "6df50cfa-758b-4e17-8136-660ee3a699f4",
   "metadata": {},
   "outputs": [
    {
     "ename": "OSError",
     "evalue": "No such file or directory: '/Users/sainandaviharim/nltk_data/corpora/stopwords/hindi'",
     "output_type": "error",
     "traceback": [
      "\u001b[0;31m---------------------------------------------------------------------------\u001b[0m",
      "\u001b[0;31mOSError\u001b[0m                                   Traceback (most recent call last)",
      "Cell \u001b[0;32mIn[53], line 1\u001b[0m\n\u001b[0;32m----> 1\u001b[0m stopwords\u001b[38;5;241m.\u001b[39mwords(\u001b[38;5;124m'\u001b[39m\u001b[38;5;124mhindi\u001b[39m\u001b[38;5;124m'\u001b[39m)\n",
      "File \u001b[0;32m/opt/anaconda3/lib/python3.12/site-packages/nltk/corpus/reader/wordlist.py:21\u001b[0m, in \u001b[0;36mWordListCorpusReader.words\u001b[0;34m(self, fileids, ignore_lines_startswith)\u001b[0m\n\u001b[1;32m     18\u001b[0m \u001b[38;5;28;01mdef\u001b[39;00m \u001b[38;5;21mwords\u001b[39m(\u001b[38;5;28mself\u001b[39m, fileids\u001b[38;5;241m=\u001b[39m\u001b[38;5;28;01mNone\u001b[39;00m, ignore_lines_startswith\u001b[38;5;241m=\u001b[39m\u001b[38;5;124m\"\u001b[39m\u001b[38;5;130;01m\\n\u001b[39;00m\u001b[38;5;124m\"\u001b[39m):\n\u001b[1;32m     19\u001b[0m     \u001b[38;5;28;01mreturn\u001b[39;00m [\n\u001b[1;32m     20\u001b[0m         line\n\u001b[0;32m---> 21\u001b[0m         \u001b[38;5;28;01mfor\u001b[39;00m line \u001b[38;5;129;01min\u001b[39;00m line_tokenize(\u001b[38;5;28mself\u001b[39m\u001b[38;5;241m.\u001b[39mraw(fileids))\n\u001b[1;32m     22\u001b[0m         \u001b[38;5;28;01mif\u001b[39;00m \u001b[38;5;129;01mnot\u001b[39;00m line\u001b[38;5;241m.\u001b[39mstartswith(ignore_lines_startswith)\n\u001b[1;32m     23\u001b[0m     ]\n",
      "File \u001b[0;32m/opt/anaconda3/lib/python3.12/site-packages/nltk/corpus/reader/api.py:218\u001b[0m, in \u001b[0;36mCorpusReader.raw\u001b[0;34m(self, fileids)\u001b[0m\n\u001b[1;32m    216\u001b[0m contents \u001b[38;5;241m=\u001b[39m []\n\u001b[1;32m    217\u001b[0m \u001b[38;5;28;01mfor\u001b[39;00m f \u001b[38;5;129;01min\u001b[39;00m fileids:\n\u001b[0;32m--> 218\u001b[0m     \u001b[38;5;28;01mwith\u001b[39;00m \u001b[38;5;28mself\u001b[39m\u001b[38;5;241m.\u001b[39mopen(f) \u001b[38;5;28;01mas\u001b[39;00m fp:\n\u001b[1;32m    219\u001b[0m         contents\u001b[38;5;241m.\u001b[39mappend(fp\u001b[38;5;241m.\u001b[39mread())\n\u001b[1;32m    220\u001b[0m \u001b[38;5;28;01mreturn\u001b[39;00m concat(contents)\n",
      "File \u001b[0;32m/opt/anaconda3/lib/python3.12/site-packages/nltk/corpus/reader/api.py:231\u001b[0m, in \u001b[0;36mCorpusReader.open\u001b[0;34m(self, file)\u001b[0m\n\u001b[1;32m    223\u001b[0m \u001b[38;5;250m\u001b[39m\u001b[38;5;124;03m\"\"\"\u001b[39;00m\n\u001b[1;32m    224\u001b[0m \u001b[38;5;124;03mReturn an open stream that can be used to read the given file.\u001b[39;00m\n\u001b[1;32m    225\u001b[0m \u001b[38;5;124;03mIf the file's encoding is not None, then the stream will\u001b[39;00m\n\u001b[0;32m   (...)\u001b[0m\n\u001b[1;32m    228\u001b[0m \u001b[38;5;124;03m:param file: The file identifier of the file to read.\u001b[39;00m\n\u001b[1;32m    229\u001b[0m \u001b[38;5;124;03m\"\"\"\u001b[39;00m\n\u001b[1;32m    230\u001b[0m encoding \u001b[38;5;241m=\u001b[39m \u001b[38;5;28mself\u001b[39m\u001b[38;5;241m.\u001b[39mencoding(file)\n\u001b[0;32m--> 231\u001b[0m stream \u001b[38;5;241m=\u001b[39m \u001b[38;5;28mself\u001b[39m\u001b[38;5;241m.\u001b[39m_root\u001b[38;5;241m.\u001b[39mjoin(file)\u001b[38;5;241m.\u001b[39mopen(encoding)\n\u001b[1;32m    232\u001b[0m \u001b[38;5;28;01mreturn\u001b[39;00m stream\n",
      "File \u001b[0;32m/opt/anaconda3/lib/python3.12/site-packages/nltk/data.py:333\u001b[0m, in \u001b[0;36mFileSystemPathPointer.join\u001b[0;34m(self, fileid)\u001b[0m\n\u001b[1;32m    331\u001b[0m \u001b[38;5;28;01mdef\u001b[39;00m \u001b[38;5;21mjoin\u001b[39m(\u001b[38;5;28mself\u001b[39m, fileid):\n\u001b[1;32m    332\u001b[0m     _path \u001b[38;5;241m=\u001b[39m os\u001b[38;5;241m.\u001b[39mpath\u001b[38;5;241m.\u001b[39mjoin(\u001b[38;5;28mself\u001b[39m\u001b[38;5;241m.\u001b[39m_path, fileid)\n\u001b[0;32m--> 333\u001b[0m     \u001b[38;5;28;01mreturn\u001b[39;00m FileSystemPathPointer(_path)\n",
      "File \u001b[0;32m/opt/anaconda3/lib/python3.12/site-packages/nltk/data.py:311\u001b[0m, in \u001b[0;36mFileSystemPathPointer.__init__\u001b[0;34m(self, _path)\u001b[0m\n\u001b[1;32m    309\u001b[0m _path \u001b[38;5;241m=\u001b[39m os\u001b[38;5;241m.\u001b[39mpath\u001b[38;5;241m.\u001b[39mabspath(_path)\n\u001b[1;32m    310\u001b[0m \u001b[38;5;28;01mif\u001b[39;00m \u001b[38;5;129;01mnot\u001b[39;00m os\u001b[38;5;241m.\u001b[39mpath\u001b[38;5;241m.\u001b[39mexists(_path):\n\u001b[0;32m--> 311\u001b[0m     \u001b[38;5;28;01mraise\u001b[39;00m \u001b[38;5;167;01mOSError\u001b[39;00m(\u001b[38;5;124m\"\u001b[39m\u001b[38;5;124mNo such file or directory: \u001b[39m\u001b[38;5;132;01m%r\u001b[39;00m\u001b[38;5;124m\"\u001b[39m \u001b[38;5;241m%\u001b[39m _path)\n\u001b[1;32m    312\u001b[0m \u001b[38;5;28mself\u001b[39m\u001b[38;5;241m.\u001b[39m_path \u001b[38;5;241m=\u001b[39m _path\n",
      "\u001b[0;31mOSError\u001b[0m: No such file or directory: '/Users/sainandaviharim/nltk_data/corpora/stopwords/hindi'"
     ]
    }
   ],
   "source": [
    "stopwords.words('hindi')"
   ]
  },
  {
   "cell_type": "code",
   "execution_count": 61,
   "id": "33aa1680-7189-4367-9d37-74f77f4e434b",
   "metadata": {},
   "outputs": [
    {
     "data": {
      "text/plain": [
       "['sam', 'is', 'a', 'natural', 'when', 'it', 'comes', 'to', 'drawing']"
      ]
     },
     "execution_count": 61,
     "metadata": {},
     "output_type": "execute_result"
    }
   ],
   "source": [
    "sent= ' sam is a natural when it comes to drawing'\n",
    "sent_tokens=word_tokenize(sent)\n",
    "sent_tokens"
   ]
  },
  {
   "cell_type": "code",
   "execution_count": 63,
   "id": "d5d5b7d4-6a92-460a-b117-c02ea670b3aa",
   "metadata": {},
   "outputs": [
    {
     "name": "stdout",
     "output_type": "stream",
     "text": [
      "[('sam', 'NN')]\n",
      "[('is', 'VBZ')]\n",
      "[('a', 'DT')]\n",
      "[('natural', 'JJ')]\n",
      "[('when', 'WRB')]\n",
      "[('it', 'PRP')]\n",
      "[('comes', 'VBZ')]\n",
      "[('to', 'TO')]\n",
      "[('drawing', 'VBG')]\n"
     ]
    }
   ],
   "source": [
    "for word in sent_tokens:\n",
    "    print(nltk.pos_tag([word]))"
   ]
  },
  {
   "cell_type": "code",
   "execution_count": 65,
   "id": "18d15851-efad-4b8d-8a7e-51a40adce138",
   "metadata": {},
   "outputs": [],
   "source": [
    "sent2= 'John is eating delicious cake'\n",
    "sent2_tokens=word_tokenize(sent2)"
   ]
  },
  {
   "cell_type": "code",
   "execution_count": 69,
   "id": "63cc7df6-1e53-413e-b1bd-0a64ed712b7b",
   "metadata": {},
   "outputs": [
    {
     "name": "stdout",
     "output_type": "stream",
     "text": [
      "[('John', 'NNP')]\n",
      "[('is', 'VBZ')]\n",
      "[('eating', 'VBG')]\n",
      "[('delicious', 'JJ')]\n",
      "[('cake', 'NN')]\n"
     ]
    }
   ],
   "source": [
    "for token in sent2_tokens:\n",
    "    print(nltk.pos_tag([token]))"
   ]
  },
  {
   "cell_type": "code",
   "execution_count": 87,
   "id": "f647408e-b400-45c2-872c-e522168cfbcc",
   "metadata": {},
   "outputs": [],
   "source": [
    "from nltk import ne_chunk"
   ]
  },
  {
   "cell_type": "code",
   "execution_count": 73,
   "id": "e30f52fb-8bef-4bf8-994a-f3688859aaee",
   "metadata": {},
   "outputs": [],
   "source": [
    "ne_sent='the us president stays in the white house'"
   ]
  },
  {
   "cell_type": "code",
   "execution_count": 75,
   "id": "75b77dfd-9f77-46f2-9538-298c60760795",
   "metadata": {},
   "outputs": [],
   "source": [
    "ne_tokens=word_tokenize(ne_sent)"
   ]
  },
  {
   "cell_type": "code",
   "execution_count": 77,
   "id": "99000f3b-54d3-437a-a01b-d773fad9cee6",
   "metadata": {},
   "outputs": [
    {
     "data": {
      "text/plain": [
       "['the', 'us', 'president', 'stays', 'in', 'the', 'white', 'house']"
      ]
     },
     "execution_count": 77,
     "metadata": {},
     "output_type": "execute_result"
    }
   ],
   "source": [
    "ne_tokens"
   ]
  },
  {
   "cell_type": "code",
   "execution_count": 79,
   "id": "9359c67c-b106-4fd7-adf5-ac6dc71d8653",
   "metadata": {},
   "outputs": [],
   "source": [
    "ne_tags=nltk.pos_tag(ne_tokens)"
   ]
  },
  {
   "cell_type": "code",
   "execution_count": 81,
   "id": "fc2047c5-b5ce-45e8-853d-46b292ced1a7",
   "metadata": {},
   "outputs": [
    {
     "data": {
      "text/plain": [
       "[('the', 'DT'),\n",
       " ('us', 'PRP'),\n",
       " ('president', 'NN'),\n",
       " ('stays', 'NNS'),\n",
       " ('in', 'IN'),\n",
       " ('the', 'DT'),\n",
       " ('white', 'JJ'),\n",
       " ('house', 'NN')]"
      ]
     },
     "execution_count": 81,
     "metadata": {},
     "output_type": "execute_result"
    }
   ],
   "source": [
    "ne_tags"
   ]
  },
  {
   "cell_type": "code",
   "execution_count": 97,
   "id": "6e576386-d43c-414c-9849-abfd0cade43f",
   "metadata": {},
   "outputs": [
    {
     "name": "stdout",
     "output_type": "stream",
     "text": [
      "(S\n",
      "  The/DT\n",
      "  (GSP US/NNP)\n",
      "  president/NN\n",
      "  stays/NNS\n",
      "  in/IN\n",
      "  the/DT\n",
      "  (FACILITY White/NNP House/NNP))\n"
     ]
    }
   ],
   "source": [
    "import nltk\n",
    "# make sure you’ve downloaded these:\n",
    "# nltk.download(\"punkt\")\n",
    "# nltk.download(\"averaged_perceptron_tagger\")\n",
    "# nltk.download(\"maxent_ne_chunker\")\n",
    "# nltk.download(\"words\")\n",
    "\n",
    "sentence = \"The US president stays in the White House\"\n",
    "tokens   = nltk.word_tokenize(sentence)\n",
    "pos      = nltk.pos_tag(tokens)\n",
    "tree     = nltk.ne_chunk(pos, binary=False)\n",
    "\n",
    "print(tree)\n"
   ]
  },
  {
   "cell_type": "code",
   "execution_count": 91,
   "id": "b3004fc6-8948-4b91-879d-1dd885fbd77c",
   "metadata": {},
   "outputs": [
    {
     "name": "stdout",
     "output_type": "stream",
     "text": [
      "Collecting svgling\n",
      "  Downloading svgling-0.5.0-py3-none-any.whl.metadata (7.4 kB)\n",
      "Collecting svgwrite (from svgling)\n",
      "  Downloading svgwrite-1.4.3-py3-none-any.whl.metadata (8.8 kB)\n",
      "Downloading svgling-0.5.0-py3-none-any.whl (31 kB)\n",
      "Downloading svgwrite-1.4.3-py3-none-any.whl (67 kB)\n",
      "Installing collected packages: svgwrite, svgling\n",
      "Successfully installed svgling-0.5.0 svgwrite-1.4.3\n",
      "Note: you may need to restart the kernel to use updated packages.\n"
     ]
    }
   ],
   "source": [
    "# pip install svgling"
   ]
  },
  {
   "cell_type": "code",
   "execution_count": 105,
   "id": "4cf618ad-8917-4709-9e7c-00705e827638",
   "metadata": {},
   "outputs": [],
   "source": [
    "# Natural Language Generation\n",
    "\n",
    "from wordcloud import WordCloud\n",
    "import matplotlib.pyplot as plt"
   ]
  },
  {
   "cell_type": "code",
   "execution_count": 101,
   "id": "a2529732-9700-464e-8a3d-98e08081cf8e",
   "metadata": {},
   "outputs": [
    {
     "name": "stdout",
     "output_type": "stream",
     "text": [
      "Collecting wordcloud\n",
      "  Downloading wordcloud-1.9.4-cp312-cp312-macosx_11_0_arm64.whl.metadata (3.4 kB)\n",
      "Requirement already satisfied: numpy>=1.6.1 in /opt/anaconda3/lib/python3.12/site-packages (from wordcloud) (1.26.4)\n",
      "Requirement already satisfied: pillow in /opt/anaconda3/lib/python3.12/site-packages (from wordcloud) (10.4.0)\n",
      "Requirement already satisfied: matplotlib in /opt/anaconda3/lib/python3.12/site-packages (from wordcloud) (3.9.2)\n",
      "Requirement already satisfied: contourpy>=1.0.1 in /opt/anaconda3/lib/python3.12/site-packages (from matplotlib->wordcloud) (1.2.0)\n",
      "Requirement already satisfied: cycler>=0.10 in /opt/anaconda3/lib/python3.12/site-packages (from matplotlib->wordcloud) (0.11.0)\n",
      "Requirement already satisfied: fonttools>=4.22.0 in /opt/anaconda3/lib/python3.12/site-packages (from matplotlib->wordcloud) (4.51.0)\n",
      "Requirement already satisfied: kiwisolver>=1.3.1 in /opt/anaconda3/lib/python3.12/site-packages (from matplotlib->wordcloud) (1.4.4)\n",
      "Requirement already satisfied: packaging>=20.0 in /opt/anaconda3/lib/python3.12/site-packages (from matplotlib->wordcloud) (24.1)\n",
      "Requirement already satisfied: pyparsing>=2.3.1 in /opt/anaconda3/lib/python3.12/site-packages (from matplotlib->wordcloud) (3.1.2)\n",
      "Requirement already satisfied: python-dateutil>=2.7 in /opt/anaconda3/lib/python3.12/site-packages (from matplotlib->wordcloud) (2.9.0.post0)\n",
      "Requirement already satisfied: six>=1.5 in /opt/anaconda3/lib/python3.12/site-packages (from python-dateutil>=2.7->matplotlib->wordcloud) (1.16.0)\n",
      "Downloading wordcloud-1.9.4-cp312-cp312-macosx_11_0_arm64.whl (168 kB)\n",
      "Installing collected packages: wordcloud\n",
      "Successfully installed wordcloud-1.9.4\n",
      "Note: you may need to restart the kernel to use updated packages.\n"
     ]
    }
   ],
   "source": [
    "pip install wordcloud"
   ]
  },
  {
   "cell_type": "code",
   "execution_count": 109,
   "id": "4c158128-d12d-4f45-a322-aa995a12b64e",
   "metadata": {},
   "outputs": [],
   "source": [
    "text=(\"Python Python Python Matploth Matplotlib Seaborn Network Plot Violin Chart Pandas Datascience Wordcloud SpiderRadar Parallel Alpha Color Brewer Density Scatter Barplot Barplot Boxplot Violinplot Treemap Stacked Area Chart ChartVisualization Dataviz Donut Pie Time-Series Wordcloud Wordcloud Sankey Bubble\")"
   ]
  },
  {
   "cell_type": "code",
   "execution_count": 111,
   "id": "ca4f7a3b-f521-4ca4-bd8f-e298ebed5e81",
   "metadata": {},
   "outputs": [
    {
     "data": {
      "text/plain": [
       "'Python Python Python Matploth Matplotlib Seaborn Network Plot Violin Chart Pandas Datascience Wordcloud SpiderRadar Parallel Alpha Color Brewer Density Scatter Barplot Barplot Boxplot Violinplot Treemap Stacked Area Chart ChartVisualization Dataviz Donut Pie Time-Series Wordcloud Wordcloud Sankey Bubble'"
      ]
     },
     "execution_count": 111,
     "metadata": {},
     "output_type": "execute_result"
    }
   ],
   "source": [
    "text"
   ]
  },
  {
   "cell_type": "code",
   "execution_count": 133,
   "id": "22cebc70-48b1-4c77-8baa-c759c6cebc14",
   "metadata": {},
   "outputs": [],
   "source": [
    "wordcloud=WordCloud(width=420,\n",
    "    height=200,\n",
    "    margin=2,\n",
    "    background_color='black',\n",
    "    mode='RGBA',\n",
    "    colormap='Accent').generate(text)"
   ]
  },
  {
   "cell_type": "code",
   "execution_count": 135,
   "id": "7b8bdda1-0eaf-4583-966c-933ad3d6536a",
   "metadata": {},
   "outputs": [
    {
     "data": {
      "text/plain": [
       "<wordcloud.wordcloud.WordCloud at 0x15c31f440>"
      ]
     },
     "execution_count": 135,
     "metadata": {},
     "output_type": "execute_result"
    }
   ],
   "source": [
    "wordcloud"
   ]
  },
  {
   "cell_type": "code",
   "execution_count": 141,
   "id": "eba770ee-1106-4177-a7e7-fe5caadfddc0",
   "metadata": {},
   "outputs": [
    {
     "data": {
      "image/png": "[encoded data removed]",
      "text/plain": [
       "<Figure size 640x480 with 1 Axes>"
      ]
     },
     "metadata": {},
     "output_type": "display_data"
    }
   ],
   "source": [
    "plt.imshow(wordcloud,interpolation='quadric')\n",
    "plt.axis(\"off\")\n",
    "plt. margins (x=0, y=0) \n",
    "plt.show()"
   ]
  },
  {
   "cell_type": "code",
   "execution_count": 143,
   "id": "aa21818a-9ff7-4d9d-ba82-6515b7607d17",
   "metadata": {},
   "outputs": [],
   "source": [
    "# embedding-transformer every text will convert to number"
   ]
  },
  {
   "cell_type": "code",
   "execution_count": 3,
   "id": "0f93b11c-ede8-4e7f-866b-bf19ba85b7d4",
   "metadata": {},
   "outputs": [
    {
     "data": {
      "text/plain": [
       "array([[1, 1, 2, 1, 1, 1, 1, 1, 1]])"
      ]
     },
     "execution_count": 3,
     "metadata": {},
     "output_type": "execute_result"
    }
   ],
   "source": [
    "from sklearn.feature_extraction.text import CountVectorizer\n",
    "\n",
    "sentence= \"data science and ai and genai has great carrer ahead\"\n",
    "vectorizer=CountVectorizer()\n",
    "vector=vectorizer.fit_transform([sentence])\n",
    "vector.toarray()"
   ]
  },
  {
   "cell_type": "code",
   "execution_count": 1,
   "id": "fd78e1f3-afc3-4c5b-8e54-372ffb2797b5",
   "metadata": {},
   "outputs": [
    {
     "name": "stdout",
     "output_type": "stream",
     "text": [
      "Collecting scipy\n",
      "  Downloading scipy-1.15.2-cp312-cp312-macosx_14_0_arm64.whl.metadata (61 kB)\n",
      "Collecting scikit-learn\n",
      "  Downloading scikit_learn-1.6.1-cp312-cp312-macosx_12_0_arm64.whl.metadata (31 kB)\n",
      "Collecting numpy<2.5,>=1.23.5 (from scipy)\n",
      "  Using cached numpy-2.2.5-cp312-cp312-macosx_14_0_arm64.whl.metadata (62 kB)\n",
      "Collecting joblib>=1.2.0 (from scikit-learn)\n",
      "  Downloading joblib-1.5.0-py3-none-any.whl.metadata (5.6 kB)\n",
      "Collecting threadpoolctl>=3.1.0 (from scikit-learn)\n",
      "  Downloading threadpoolctl-3.6.0-py3-none-any.whl.metadata (13 kB)\n",
      "Downloading scipy-1.15.2-cp312-cp312-macosx_14_0_arm64.whl (22.4 MB)\n",
      "\u001b[2K   \u001b[90m━━━━━━━━━━━━━━━━━━━━━━━━━━━━━━━━━━━━━━━━\u001b[0m \u001b[32m22.4/22.4 MB\u001b[0m \u001b[31m5.4 MB/s\u001b[0m eta \u001b[36m0:00:00\u001b[0ma \u001b[36m0:00:01\u001b[0m\n",
      "\u001b[?25hDownloading scikit_learn-1.6.1-cp312-cp312-macosx_12_0_arm64.whl (11.2 MB)\n",
      "\u001b[2K   \u001b[90m━━━━━━━━━━━━━━━━━━━━━━━━━━━━━━━━━━━━━━━━\u001b[0m \u001b[32m11.2/11.2 MB\u001b[0m \u001b[31m9.7 MB/s\u001b[0m eta \u001b[36m0:00:00\u001b[0ma \u001b[36m0:00:01\u001b[0m\n",
      "\u001b[?25hDownloading joblib-1.5.0-py3-none-any.whl (307 kB)\n",
      "Using cached numpy-2.2.5-cp312-cp312-macosx_14_0_arm64.whl (5.2 MB)\n",
      "Downloading threadpoolctl-3.6.0-py3-none-any.whl (18 kB)\n",
      "Installing collected packages: threadpoolctl, numpy, joblib, scipy, scikit-learn\n",
      "  Attempting uninstall: threadpoolctl\n",
      "    Found existing installation: threadpoolctl 3.5.0\n",
      "    Uninstalling threadpoolctl-3.5.0:\n",
      "      Successfully uninstalled threadpoolctl-3.5.0\n",
      "  Attempting uninstall: numpy\n",
      "    Found existing installation: numpy 1.26.4\n",
      "    Uninstalling numpy-1.26.4:\n",
      "      Successfully uninstalled numpy-1.26.4\n",
      "  Attempting uninstall: joblib\n",
      "    Found existing installation: joblib 1.4.2\n",
      "    Uninstalling joblib-1.4.2:\n",
      "      Successfully uninstalled joblib-1.4.2\n",
      "  Attempting uninstall: scipy\n",
      "    Found existing installation: scipy 1.13.1\n",
      "    Uninstalling scipy-1.13.1:\n",
      "      Successfully uninstalled scipy-1.13.1\n",
      "  Attempting uninstall: scikit-learn\n",
      "    Found existing installation: scikit-learn 1.5.1\n",
      "    Uninstalling scikit-learn-1.5.1:\n",
      "      Successfully uninstalled scikit-learn-1.5.1\n",
      "\u001b[31mERROR: pip's dependency resolver does not currently take into account all the packages that are installed. This behaviour is the source of the following dependency conflicts.\n",
      "gensim 4.3.3 requires numpy<2.0,>=1.18.5, but you have numpy 2.2.5 which is incompatible.\n",
      "gensim 4.3.3 requires scipy<1.14.0,>=1.7.0, but you have scipy 1.15.2 which is incompatible.\n",
      "contourpy 1.2.0 requires numpy<2.0,>=1.20, but you have numpy 2.2.5 which is incompatible.\n",
      "numba 0.60.0 requires numpy<2.1,>=1.22, but you have numpy 2.2.5 which is incompatible.\u001b[0m\u001b[31m\n",
      "\u001b[0mSuccessfully installed joblib-1.5.0 numpy-2.2.5 scikit-learn-1.6.1 scipy-1.15.2 threadpoolctl-3.6.0\n",
      "Note: you may need to restart the kernel to use updated packages.\n",
      "Requirement already satisfied: scipy in /opt/anaconda3/lib/python3.12/site-packages (1.15.2)\n",
      "Requirement already satisfied: scikit-learn in /opt/anaconda3/lib/python3.12/site-packages (1.6.1)\n",
      "Requirement already satisfied: numpy<2.5,>=1.23.5 in /opt/anaconda3/lib/python3.12/site-packages (from scipy) (2.2.5)\n",
      "Requirement already satisfied: joblib>=1.2.0 in /opt/anaconda3/lib/python3.12/site-packages (from scikit-learn) (1.5.0)\n",
      "Requirement already satisfied: threadpoolctl>=3.1.0 in /opt/anaconda3/lib/python3.12/site-packages (from scikit-learn) (3.6.0)\n",
      "Note: you may need to restart the kernel to use updated packages.\n"
     ]
    }
   ],
   "source": [
    "# In a notebook cell, run:\n",
    "%pip install --upgrade --force-reinstall scipy scikit-learn\n",
    "\n",
    "# And if you still hit the NumPy 2 vs 1.x mismatch:\n",
    "%pip install --no-binary=:all: scipy scikit-learn\n"
   ]
  },
  {
   "cell_type": "code",
   "execution_count": null,
   "id": "5750cb71-72be-4d5a-a491-ceea1241a886",
   "metadata": {},
   "outputs": [],
   "source": []
  }
 ],
 "metadata": {
  "kernelspec": {
   "display_name": "Python [conda env:base] *",
   "language": "python",
   "name": "conda-base-py"
  },
  "language_info": {
   "codemirror_mode": {
    "name": "ipython",
    "version": 3
   },
   "file_extension": ".py",
   "mimetype": "text/x-python",
   "name": "python",
   "nbconvert_exporter": "python",
   "pygments_lexer": "ipython3",
   "version": "3.12.7"
  }
 },
 "nbformat": 4,
 "nbformat_minor": 5
}
