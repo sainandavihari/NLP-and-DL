{
 "cells": [
  {
   "cell_type": "code",
   "execution_count": 1,
   "id": "8c40d5f8-e81f-4b13-a68e-5bdba1517237",
   "metadata": {},
   "outputs": [
    {
     "name": "stdout",
     "output_type": "stream",
     "text": [
      "showing info https://raw.githubusercontent.com/nltk/nltk_data/gh-pages/index.xml\n"
     ]
    },
    {
     "name": "stderr",
     "output_type": "stream",
     "text": [
      "2025-05-01 17:45:38.334 python[32812:10155319] +[IMKClient subclass]: chose IMKClient_Modern\n"
     ]
    },
    {
     "data": {
      "text/plain": [
       "True"
      ]
     },
     "execution_count": 1,
     "metadata": {},
     "output_type": "execute_result"
    }
   ],
   "source": [
    "import os\n",
    "import nltk\n",
    "nltk.download()"
   ]
  },
  {
   "cell_type": "code",
   "execution_count": 5,
   "id": "cbac30f8-ab24-4f4b-a858-bbd1db98a4f6",
   "metadata": {},
   "outputs": [],
   "source": [
    "AI='''Artificial intelligence (AI) refers to the capability of computational systems to perform tasks typically associated with human intelligence, such as learning, reasoning, problem-solving, perception, and decision-making. It is a field of research in computer science that develops and studies methods and software that enable machines to perceive their environment and use learning and intelligence to take actions that maximize their chances of achieving defined goals.[1] Such machines may be called AIs.'''"
   ]
  },
  {
   "cell_type": "code",
   "execution_count": 7,
   "id": "fa928f33-572d-41de-944a-23f0eae58ccf",
   "metadata": {},
   "outputs": [
    {
     "data": {
      "text/plain": [
       "str"
      ]
     },
     "execution_count": 7,
     "metadata": {},
     "output_type": "execute_result"
    }
   ],
   "source": [
    "type(AI)"
   ]
  },
  {
   "cell_type": "code",
   "execution_count": 9,
   "id": "b184fa31-107d-4bca-9520-9a7570ff2fe6",
   "metadata": {},
   "outputs": [
    {
     "data": {
      "text/plain": [
       "'Artificial intelligence (AI) refers to the capability of computational systems to perform tasks typically associated with human intelligence, such as learning, reasoning, problem-solving, perception, and decision-making. It is a field of research in computer science that develops and studies methods and software that enable machines to perceive their environment and use learning and intelligence to take actions that maximize their chances of achieving defined goals.[1] Such machines may be called AIs.'"
      ]
     },
     "execution_count": 9,
     "metadata": {},
     "output_type": "execute_result"
    }
   ],
   "source": [
    "AI"
   ]
  },
  {
   "cell_type": "code",
   "execution_count": 13,
   "id": "b4e1f636-d5c4-4244-afe0-7753be84c0ab",
   "metadata": {},
   "outputs": [],
   "source": [
    "from nltk.tokenize import word_tokenize"
   ]
  },
  {
   "cell_type": "code",
   "execution_count": 15,
   "id": "db41fc1d-28da-497d-91d4-046f91afa34d",
   "metadata": {},
   "outputs": [
    {
     "data": {
      "text/plain": [
       "['Artificial',\n",
       " 'intelligence',\n",
       " '(',\n",
       " 'AI',\n",
       " ')',\n",
       " 'refers',\n",
       " 'to',\n",
       " 'the',\n",
       " 'capability',\n",
       " 'of',\n",
       " 'computational',\n",
       " 'systems',\n",
       " 'to',\n",
       " 'perform',\n",
       " 'tasks',\n",
       " 'typically',\n",
       " 'associated',\n",
       " 'with',\n",
       " 'human',\n",
       " 'intelligence',\n",
       " ',',\n",
       " 'such',\n",
       " 'as',\n",
       " 'learning',\n",
       " ',',\n",
       " 'reasoning',\n",
       " ',',\n",
       " 'problem-solving',\n",
       " ',',\n",
       " 'perception',\n",
       " ',',\n",
       " 'and',\n",
       " 'decision-making',\n",
       " '.',\n",
       " 'It',\n",
       " 'is',\n",
       " 'a',\n",
       " 'field',\n",
       " 'of',\n",
       " 'research',\n",
       " 'in',\n",
       " 'computer',\n",
       " 'science',\n",
       " 'that',\n",
       " 'develops',\n",
       " 'and',\n",
       " 'studies',\n",
       " 'methods',\n",
       " 'and',\n",
       " 'software',\n",
       " 'that',\n",
       " 'enable',\n",
       " 'machines',\n",
       " 'to',\n",
       " 'perceive',\n",
       " 'their',\n",
       " 'environment',\n",
       " 'and',\n",
       " 'use',\n",
       " 'learning',\n",
       " 'and',\n",
       " 'intelligence',\n",
       " 'to',\n",
       " 'take',\n",
       " 'actions',\n",
       " 'that',\n",
       " 'maximize',\n",
       " 'their',\n",
       " 'chances',\n",
       " 'of',\n",
       " 'achieving',\n",
       " 'defined',\n",
       " 'goals',\n",
       " '.',\n",
       " '[',\n",
       " '1',\n",
       " ']',\n",
       " 'Such',\n",
       " 'machines',\n",
       " 'may',\n",
       " 'be',\n",
       " 'called',\n",
       " 'AIs',\n",
       " '.']"
      ]
     },
     "execution_count": 15,
     "metadata": {},
     "output_type": "execute_result"
    }
   ],
   "source": [
    "AI_tockens=word_tokenize(AI)\n",
    "AI_tockens"
   ]
  },
  {
   "cell_type": "code",
   "execution_count": 17,
   "id": "811654fb-5935-43ac-83f0-cdae84580cef",
   "metadata": {},
   "outputs": [
    {
     "data": {
      "text/plain": [
       "84"
      ]
     },
     "execution_count": 17,
     "metadata": {},
     "output_type": "execute_result"
    }
   ],
   "source": [
    "len(AI_tockens)"
   ]
  },
  {
   "cell_type": "code",
   "execution_count": 19,
   "id": "7deaf684-e201-4045-950a-edcc41bd31ff",
   "metadata": {},
   "outputs": [],
   "source": [
    "from nltk.tokenize import sent_tokenize"
   ]
  },
  {
   "cell_type": "code",
   "execution_count": 21,
   "id": "43254fda-9315-4b04-baab-cc24d504a938",
   "metadata": {},
   "outputs": [],
   "source": [
    "Sent_tockenize=sent_tokenize(AI)"
   ]
  },
  {
   "cell_type": "code",
   "execution_count": 23,
   "id": "cb32a119-d753-4ec7-8bcb-bd4940d21f28",
   "metadata": {},
   "outputs": [
    {
     "data": {
      "text/plain": [
       "['Artificial intelligence (AI) refers to the capability of computational systems to perform tasks typically associated with human intelligence, such as learning, reasoning, problem-solving, perception, and decision-making.',\n",
       " 'It is a field of research in computer science that develops and studies methods and software that enable machines to perceive their environment and use learning and intelligence to take actions that maximize their chances of achieving defined goals.',\n",
       " '[1] Such machines may be called AIs.']"
      ]
     },
     "execution_count": 23,
     "metadata": {},
     "output_type": "execute_result"
    }
   ],
   "source": [
    "Sent_tockenize"
   ]
  },
  {
   "cell_type": "code",
   "execution_count": 25,
   "id": "355778cd-75ed-4900-a220-f95e05bdb91a",
   "metadata": {},
   "outputs": [
    {
     "data": {
      "text/plain": [
       "3"
      ]
     },
     "execution_count": 25,
     "metadata": {},
     "output_type": "execute_result"
    }
   ],
   "source": [
    "len(Sent_tockenize)"
   ]
  },
  {
   "cell_type": "code",
   "execution_count": 31,
   "id": "26504b46-cd7c-4904-aa38-97e3732f8f68",
   "metadata": {},
   "outputs": [],
   "source": [
    "from nltk.tokenize import blankline_tokenize# number of paragraphs"
   ]
  },
  {
   "cell_type": "code",
   "execution_count": 33,
   "id": "fe333e89-cf9e-443f-9a38-b229f88cc6a9",
   "metadata": {},
   "outputs": [
    {
     "data": {
      "text/plain": [
       "['Artificial intelligence (AI) refers to the capability of computational systems to perform tasks typically associated with human intelligence, such as learning, reasoning, problem-solving, perception, and decision-making. It is a field of research in computer science that develops and studies methods and software that enable machines to perceive their environment and use learning and intelligence to take actions that maximize their chances of achieving defined goals.[1] Such machines may be called AIs.']"
      ]
     },
     "execution_count": 33,
     "metadata": {},
     "output_type": "execute_result"
    }
   ],
   "source": [
    "AI_Blankline=blankline_tokenize(AI)\n",
    "AI_Blankline"
   ]
  },
  {
   "cell_type": "code",
   "execution_count": 38,
   "id": "4a01874f-7282-46d1-946b-ff79c53ac60f",
   "metadata": {},
   "outputs": [],
   "source": [
    "from nltk.tokenize import WhitespaceTokenizer"
   ]
  },
  {
   "cell_type": "code",
   "execution_count": 44,
   "id": "021261ca-788e-40d9-a35c-6257ac897221",
   "metadata": {},
   "outputs": [],
   "source": [
    "AI_whitespace=WhitespaceTokenizer().tokenize(AI)"
   ]
  },
  {
   "cell_type": "code",
   "execution_count": 46,
   "id": "8638f593-7c47-4177-839f-219236a1501f",
   "metadata": {},
   "outputs": [
    {
     "data": {
      "text/plain": [
       "['Artificial',\n",
       " 'intelligence',\n",
       " '(AI)',\n",
       " 'refers',\n",
       " 'to',\n",
       " 'the',\n",
       " 'capability',\n",
       " 'of',\n",
       " 'computational',\n",
       " 'systems',\n",
       " 'to',\n",
       " 'perform',\n",
       " 'tasks',\n",
       " 'typically',\n",
       " 'associated',\n",
       " 'with',\n",
       " 'human',\n",
       " 'intelligence,',\n",
       " 'such',\n",
       " 'as',\n",
       " 'learning,',\n",
       " 'reasoning,',\n",
       " 'problem-solving,',\n",
       " 'perception,',\n",
       " 'and',\n",
       " 'decision-making.',\n",
       " 'It',\n",
       " 'is',\n",
       " 'a',\n",
       " 'field',\n",
       " 'of',\n",
       " 'research',\n",
       " 'in',\n",
       " 'computer',\n",
       " 'science',\n",
       " 'that',\n",
       " 'develops',\n",
       " 'and',\n",
       " 'studies',\n",
       " 'methods',\n",
       " 'and',\n",
       " 'software',\n",
       " 'that',\n",
       " 'enable',\n",
       " 'machines',\n",
       " 'to',\n",
       " 'perceive',\n",
       " 'their',\n",
       " 'environment',\n",
       " 'and',\n",
       " 'use',\n",
       " 'learning',\n",
       " 'and',\n",
       " 'intelligence',\n",
       " 'to',\n",
       " 'take',\n",
       " 'actions',\n",
       " 'that',\n",
       " 'maximize',\n",
       " 'their',\n",
       " 'chances',\n",
       " 'of',\n",
       " 'achieving',\n",
       " 'defined',\n",
       " 'goals.[1]',\n",
       " 'Such',\n",
       " 'machines',\n",
       " 'may',\n",
       " 'be',\n",
       " 'called',\n",
       " 'AIs.']"
      ]
     },
     "execution_count": 46,
     "metadata": {},
     "output_type": "execute_result"
    }
   ],
   "source": [
    "AI_whitespace"
   ]
  },
  {
   "cell_type": "code",
   "execution_count": 48,
   "id": "f2882e1a-d004-49db-8be7-c4ae30270be6",
   "metadata": {},
   "outputs": [
    {
     "data": {
      "text/plain": [
       "71"
      ]
     },
     "execution_count": 48,
     "metadata": {},
     "output_type": "execute_result"
    }
   ],
   "source": [
    "len(AI_whitespace)"
   ]
  },
  {
   "cell_type": "code",
   "execution_count": 50,
   "id": "7520685e-fdfd-4bd9-a815-48a65b1b95d4",
   "metadata": {},
   "outputs": [],
   "source": [
    "# WHITE SPACE tockenizer removes noisy charecters"
   ]
  },
  {
   "cell_type": "code",
   "execution_count": null,
   "id": "ef41fe24-375b-4eb6-b52a-1ce392cd815d",
   "metadata": {},
   "outputs": [],
   "source": []
  }
 ],
 "metadata": {
  "kernelspec": {
   "display_name": "Python [conda env:base] *",
   "language": "python",
   "name": "conda-base-py"
  },
  "language_info": {
   "codemirror_mode": {
    "name": "ipython",
    "version": 3
   },
   "file_extension": ".py",
   "mimetype": "text/x-python",
   "name": "python",
   "nbconvert_exporter": "python",
   "pygments_lexer": "ipython3",
   "version": "3.12.7"
  }
 },
 "nbformat": 4,
 "nbformat_minor": 5
}
